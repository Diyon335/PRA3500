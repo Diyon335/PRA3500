{
  "nbformat": 4,
  "nbformat_minor": 0,
  "metadata": {
    "colab": {
      "name": "final_Week1.ipynb",
      "provenance": [],
      "collapsed_sections": [],
      "authorship_tag": "ABX9TyNU53A4/T+L7N7x7OZQ1Gev",
      "include_colab_link": true
    },
    "kernelspec": {
      "name": "python3",
      "display_name": "Python 3"
    }
  },
  "cells": [
    {
      "cell_type": "markdown",
      "metadata": {
        "id": "view-in-github",
        "colab_type": "text"
      },
      "source": [
        "<a href=\"https://colab.research.google.com/github/Diyon335/PRA3500/blob/master/Week1/final_Week1.ipynb\" target=\"_parent\"><img src=\"https://colab.research.google.com/assets/colab-badge.svg\" alt=\"Open In Colab\"/></a>"
      ]
    },
    {
      "cell_type": "markdown",
      "metadata": {
        "id": "mj6jsMmlOvwP",
        "colab_type": "text"
      },
      "source": [
        "### WEEK 1: PROBABILITY AND PROBABILITY DISTRIBUTIONS"
      ]
    },
    {
      "cell_type": "code",
      "metadata": {
        "id": "H2gbxP7vQ78f",
        "colab_type": "code",
        "outputId": "4b0261aa-a07a-4b29-c847-60c14b8e7a8f",
        "colab": {
          "base_uri": "https://localhost:8080/",
          "height": 71
        }
      },
      "source": [
        "import matplotlib.pyplot as plt\n",
        "import numpy as np\n",
        "import scipy.stats \n",
        "\n",
        "from scipy.stats import norm, poisson, binom, expon, skew, kurtosis\n",
        "\n",
        "import seaborn as sns\n",
        "sns.set(color_codes=True)\n",
        "sns.set(rc={'figure.figsize':(5,5)})"
      ],
      "execution_count": 1,
      "outputs": [
        {
          "output_type": "stream",
          "text": [
            "/usr/local/lib/python3.6/dist-packages/statsmodels/tools/_testing.py:19: FutureWarning: pandas.util.testing is deprecated. Use the functions in the public API at pandas.testing instead.\n",
            "  import pandas.util.testing as tm\n"
          ],
          "name": "stderr"
        }
      ]
    },
    {
      "cell_type": "markdown",
      "metadata": {
        "id": "-B-HEH_7eRLq",
        "colab_type": "text"
      },
      "source": [
        "# Probability Relations"
      ]
    },
    {
      "cell_type": "code",
      "metadata": {
        "id": "oLK6XIIQF0eq",
        "colab_type": "code",
        "colab": {}
      },
      "source": [
        "#Bayes' theorem to infer P(A|B)\n",
        "def P_A_given_B(P_B_given_A , P_A , P_B):\n",
        "  return (P_B_given_A * P_A)/ P_B\n",
        "\n",
        "#Re-arrangement of P(B) = P(A)*P(B|A) OR P(Ac)*P(B|Ac) to get P(A). Infer the tree diagram a few cell blocks below\n",
        "def P_a(P_B, P_B_given_Ac ,P_B_given_A):\n",
        "  return (P_B - P_B_given_Ac)/(P_B_given_A - P_B_given_Ac)"
      ],
      "execution_count": 0,
      "outputs": []
    },
    {
      "cell_type": "markdown",
      "metadata": {
        "id": "D-Ew_F-gGsy4",
        "colab_type": "text"
      },
      "source": [
        "Let the event 'A' be choosing someone with antibodies\\\n",
        "Let the event 'B' be confirming that the person has antibodies\n",
        "\n",
        "Event B is done after A\n",
        "\n",
        "Xc denotes the complementary event of an event X\n",
        "\n",
        "P(A)  = 0.01 \\\n",
        "P(Ac) = 0.99\n",
        "\n",
        "P(B|A)   = 0.99\\\n",
        "P(Bc|A)  = 0.01\\\n",
        "P(B|Ac)  = 0.05\\\n",
        "P(Bc|Ac) = 0.95"
      ]
    },
    {
      "cell_type": "code",
      "metadata": {
        "id": "DqgDTDDWGqp2",
        "colab_type": "code",
        "outputId": "902a31a5-d52e-46ba-d281-a09ca016f22b",
        "colab": {
          "base_uri": "https://localhost:8080/",
          "height": 34
        }
      },
      "source": [
        "P_A  = 0.01 \n",
        "P_Ac = 0.99\n",
        "\n",
        "P_B_given_A   = 0.99\n",
        "P_Bc_given_A  = 0.01\n",
        "P_B_given_Ac  = 0.05\n",
        "P_Bc_given_Ac = 0.95\n",
        "\n",
        "#Probability that the person was confirmed to have the antibodies P(B) = P(A)*P(B|A) OR P(Ac)*P(B|Ac)\n",
        "P_B = (P_A * P_B_given_A) + (P_Ac * P_B_given_Ac)\n",
        "\n",
        "#Therefore the probability that someone has the antibodies, given that he was confirmed to have the antibodies: P(A|B)\n",
        "P_A_given_B(P_B_given_A,P_A,P_B)"
      ],
      "execution_count": 3,
      "outputs": [
        {
          "output_type": "execute_result",
          "data": {
            "text/plain": [
              "0.16666666666666669"
            ]
          },
          "metadata": {
            "tags": []
          },
          "execution_count": 3
        }
      ]
    },
    {
      "cell_type": "markdown",
      "metadata": {
        "colab_type": "text",
        "id": "2Hicp1slQE0O"
      },
      "source": [
        "link to used tree diagram: https://prntscr.com/s0qf26\n"
      ]
    },
    {
      "cell_type": "code",
      "metadata": {
        "id": "oLx52kShLsJo",
        "colab_type": "code",
        "outputId": "20d7e30b-4b47-49fe-f8b9-e0138e264613",
        "colab": {
          "base_uri": "https://localhost:8080/",
          "height": 34
        }
      },
      "source": [
        "#What should P(A) be for P(B) > 50% ?\n",
        "P_B          = 0.5\n",
        "P_B_given_Ac = 0.05\n",
        "P_B_given_A  = 0.99  \n",
        "\n",
        "P_A = P_a(P_B, P_B_given_Ac, P_B_given_A)\n",
        "\n",
        "print(\"The percentage of people with antibodies should be greater than: {}%\".format(int(P_A * 100)))"
      ],
      "execution_count": 4,
      "outputs": [
        {
          "output_type": "stream",
          "text": [
            "The percentage of people with antibodies should be greater than: 47%\n"
          ],
          "name": "stdout"
        }
      ]
    },
    {
      "cell_type": "code",
      "metadata": {
        "id": "K2qsyqL5Rx0_",
        "colab_type": "code",
        "outputId": "688a05a3-959d-4679-a8b6-f0f321e7f94d",
        "colab": {
          "base_uri": "https://localhost:8080/",
          "height": 356
        }
      },
      "source": [
        "#Chosen P(B) values\n",
        "P_B_array = [0.1 , 0.2 , 0.3 , 0.4 , 0.5 , 0.6 , 0.7 , 0.8]\n",
        "P_A_array = np.zeros(shape= len(P_B_array))\n",
        "\n",
        "for element in range(len(P_A_array)):\n",
        "  P_A_array[element] = P_a(P_B_array[element], P_B_given_Ac, P_B_given_A)\n",
        "\n",
        "plt.plot(P_A_array , P_B_array)\n",
        "plt.xlabel(\"P(A) : Fraction of people with antibodies\")\n",
        "plt.ylabel(\"P(B) : Fraction of people confirmed to have antibodies\")\n",
        "plt.title(\"Graph of P(B) vs. P(A)\")\n",
        "plt.show()"
      ],
      "execution_count": 5,
      "outputs": [
        {
          "output_type": "display_data",
          "data": {
            "image/png": "[encoded data removed]",
            "text/plain": [
              "<Figure size 432x288 with 1 Axes>"
            ]
          },
          "metadata": {
            "tags": [],
            "needs_background": "light"
          }
        }
      ]
    },
    {
      "cell_type": "markdown",
      "metadata": {
        "id": "nD83UUtOXoVa",
        "colab_type": "text"
      },
      "source": [
        "# Probability Distributions & Optional task"
      ]
    },
    {
      "cell_type": "code",
      "metadata": {
        "id": "4391v4n2WxET",
        "colab_type": "code",
        "colab": {}
      },
      "source": [
        "######################### Constants/ Defaults / Methods used #########################\n",
        "\n",
        "#The different shapes of distributions used for this exercise\n",
        "shapes = [\"Gaussian\", \"Poisson\",\"Binomial\",\"Exponential\"]\n",
        "\n",
        "size = 1000\n",
        "gauss_mean = 0\n",
        "gauss_std = 1\n",
        "\n",
        "poisson_mu = 2\n",
        "\n",
        "binom_p = 0.8\n",
        "binom_n = 10\n",
        "\n",
        "e_mean = 5\n",
        "\n",
        "#Gets a cumulative distribution function of specified shape and data\n",
        "def getShapeCDF(shape,data):\n",
        "  if(shape==\"Gaussian\"):\n",
        "    return norm.cdf(data)\n",
        "  if(shape==\"Poisson\"):\n",
        "    return poisson.cdf(data,poisson_mu)\n",
        "  if(shape==\"Binomial\"):\n",
        "    return binom.cdf(data,binom_n,binom_p)\n",
        "  if(shape==\"Exponential\"):\n",
        "    return expon.cdf(data,e_mean)\n",
        "  \n",
        "  return \"Shape does not exist\"\n",
        "\n",
        "#checks if your range is of type: array\n",
        "def isArray(array):\n",
        "  try:\n",
        "    size = len(array)\n",
        "  except:\n",
        "    print(\"The object containing your range of values must be an array with size (2)\")\n",
        "    return False\n",
        "  return True\n",
        "\n",
        "#checks if your range is proper, i.e. has two values only: min and max\n",
        "def isValidRange(array):\n",
        "  if(len(array) != 2):\n",
        "    print (\"The object containing your range of values must be of size (2)\")\n",
        "    return False\n",
        "  return True\n",
        "#Checks if your shape is valid\n",
        "def isValidShape(shape):\n",
        "  for i in range(len(shapes)):\n",
        "    if(shapes[i]==shape):\n",
        "      return True\n",
        "  return False\n",
        "\n",
        "######################### Types of distributions #########################\n",
        "\n",
        "#Gaussian\n",
        "def getGaussianData():\n",
        "  return norm.rvs(size = size, loc = gauss_mean, scale = gauss_std)\n",
        "\n",
        "#Poisson\n",
        "def getPoissonData():\n",
        "  return poisson.rvs(size = size, mu=poisson_mu)\n",
        "\n",
        "#Binomial\n",
        "def getBinomialData():\n",
        "  return binom.rvs(size=size, p = binom_p, n= binom_n)\n",
        "\n",
        "#Exponential\n",
        "def getExpoData():\n",
        "  return expon.rvs(size=size, loc= e_mean)\n",
        "\n",
        "######################### plotter #########################\n",
        "\n",
        "def plotDistribution(shape, data, xRange, cdfRange, xTitle, yTitle, computeCDF = True, displayContinuousDist = False):\n",
        "  #conduct checks to see if entered data is valid\n",
        "  if(isValidShape(shape)==False):\n",
        "    print(\"Invalid shape\")\n",
        "    return\n",
        "  if(isArray(xRange) == False):\n",
        "    return\n",
        "  if(computeCDF):\n",
        "    if(isArray(cdfRange)==False):\n",
        "      return\n",
        "    if(isValidRange(cdfRange)==False):\n",
        "      return\n",
        "    #get the area from the CDF of the data\n",
        "    area = getShapeCDF(shape, cdfRange[1]) - getShapeCDF(shape, cdfRange[0])\n",
        "    \n",
        "  else:\n",
        "    area = \"Not computed\"\n",
        "  \n",
        "  if(isValidRange(xRange)==False):\n",
        "    return\n",
        "  #plot the distribution\n",
        "  ax = sns.distplot(data,bins=10,hist=True,color='black',kde = displayContinuousDist, hist_kws={\"color\":'blue',\"edgecolor\":\"skyblue\",\"linewidth\":0, \"alpha\":1},norm_hist=True)\n",
        "  \n",
        "  ax.set(xlabel = xTitle , ylabel = yTitle, xlim = (xRange[0],xRange[1]))\n",
        "  #display required inferred stats\n",
        "  print(\"P({} < x < {}) = {}\".format(cdfRange[0],cdfRange[1],area))\n",
        "  print(\"Mean: {}\".format(np.mean(data)))\n",
        "  print(\"Variance: {}\".format(np.var(data)))\n",
        "  print(\"Skew: {}\".format(skew(data)))\n",
        "  print(\"Kurtosis: {}\".format(kurtosis(data)))\n",
        "  return \n",
        "\n",
        "\n",
        "\n"
      ],
      "execution_count": 0,
      "outputs": []
    },
    {
      "cell_type": "code",
      "metadata": {
        "id": "CMoz-iB1noZn",
        "colab_type": "code",
        "outputId": "c7bf6f86-9a29-4ce5-af4a-533779422513",
        "colab": {
          "base_uri": "https://localhost:8080/",
          "height": 370
        }
      },
      "source": [
        "xValues = [-5,5]\n",
        "cdf = [-33,93]\n",
        "\n",
        "plotDistribution(\"Gaussian\", getGaussianData(), xValues, cdf , \"Gaussian Distribution\",\"Frequency\",True,True)"
      ],
      "execution_count": 65,
      "outputs": [
        {
          "output_type": "stream",
          "text": [
            "P(-33 < x < 93) = 1.0\n",
            "Mean: -0.06834880603069948\n",
            "Variance: 1.0249476978608323\n",
            "Skew: 0.1770458901427746\n",
            "Kurtosis: 0.2651560875668655\n"
          ],
          "name": "stdout"
        },
        {
          "output_type": "display_data",
          "data": {
            "image/png": "[encoded data removed]",
            "text/plain": [
              "<Figure size 432x288 with 1 Axes>"
            ]
          },
          "metadata": {
            "tags": [],
            "needs_background": "light"
          }
        }
      ]
    },
    {
      "cell_type": "code",
      "metadata": {
        "id": "HgX6maa9QuJM",
        "colab_type": "code",
        "outputId": "680d5dcd-1c6f-449e-870a-3201f0c9958c",
        "colab": {
          "base_uri": "https://localhost:8080/",
          "height": 370
        }
      },
      "source": [
        "xValues = [-5,15]\n",
        "cdf = [-3,7.5]\n",
        "\n",
        "plotDistribution(\"Poisson\", getPoissonData(), xValues, cdf , \"Poisson Distribution\",\"Frequency\",True,True)"
      ],
      "execution_count": 67,
      "outputs": [
        {
          "output_type": "stream",
          "text": [
            "P(-3 < x < 7.5) = 0.9989032810321413\n",
            "Mean: 1.865\n",
            "Variance: 1.862775\n",
            "Skew: 0.7590854390196896\n",
            "Kurtosis: 0.37041627258391285\n"
          ],
          "name": "stdout"
        },
        {
          "output_type": "display_data",
          "data": {
            "image/png": "[encoded data removed]",
            "text/plain": [
              "<Figure size 432x288 with 1 Axes>"
            ]
          },
          "metadata": {
            "tags": [],
            "needs_background": "light"
          }
        }
      ]
    },
    {
      "cell_type": "code",
      "metadata": {
        "id": "CkACnqlTkk6B",
        "colab_type": "code",
        "outputId": "c097efd0-5a74-49da-efff-3505def8873d",
        "colab": {
          "base_uri": "https://localhost:8080/",
          "height": 370
        }
      },
      "source": [
        "xValues = [0,10]\n",
        "cdf = [-3,7.5]\n",
        "\n",
        "plotDistribution(\"Binomial\", getBinomialData(), xValues, cdf , \"Binomial Distribution\",\"Frequency\",True,True)"
      ],
      "execution_count": 69,
      "outputs": [
        {
          "output_type": "stream",
          "text": [
            "P(-3 < x < 7.5) = 0.3222004736\n",
            "Mean: 7.976\n",
            "Variance: 1.593424\n",
            "Skew: -0.3426776836832153\n",
            "Kurtosis: -0.2546972239095604\n"
          ],
          "name": "stdout"
        },
        {
          "output_type": "display_data",
          "data": {
            "image/png": "[encoded data removed]",
            "text/plain": [
              "<Figure size 432x288 with 1 Axes>"
            ]
          },
          "metadata": {
            "tags": [],
            "needs_background": "light"
          }
        }
      ]
    },
    {
      "cell_type": "code",
      "metadata": {
        "id": "8Mm8ml77p9n6",
        "colab_type": "code",
        "outputId": "6cb11665-f943-448d-9495-085843af97c1",
        "colab": {
          "base_uri": "https://localhost:8080/",
          "height": 370
        }
      },
      "source": [
        "xValues = [0,10]\n",
        "cdf = [5,13]\n",
        "\n",
        "plotDistribution(\"Exponential\", getExpoData(), xValues, cdf , \"Exponential Distribution\",\"Frequency\",True,True)"
      ],
      "execution_count": 70,
      "outputs": [
        {
          "output_type": "stream",
          "text": [
            "P(5 < x < 13) = 0.9996645373720975\n",
            "Mean: 5.969473545098674\n",
            "Variance: 1.0429877960810758\n",
            "Skew: 2.216896742744922\n",
            "Kurtosis: 7.9816414335519426\n"
          ],
          "name": "stdout"
        },
        {
          "output_type": "display_data",
          "data": {
            "image/png": "[encoded data removed]",
            "text/plain": [
              "<Figure size 432x288 with 1 Axes>"
            ]
          },
          "metadata": {
            "tags": [],
            "needs_background": "light"
          }
        }
      ]
    },
    {
      "cell_type": "markdown",
      "metadata": {
        "id": "ulcD5aAWbF4A",
        "colab_type": "text"
      },
      "source": [
        "# Expected values"
      ]
    },
    {
      "cell_type": "code",
      "metadata": {
        "id": "8kdXqpXpYWbk",
        "colab_type": "code",
        "colab": {}
      },
      "source": [
        "#Returns the expected value of a distribution\n",
        "def getExpected(data):\n",
        "  data_array = []\n",
        "  prob_array = []\n",
        "  freq = 0\n",
        "  total = 0\n",
        "  #appends each value from the distribution to the array. Gets the frequency of each value\n",
        "  for i in range(len(data)):\n",
        "    data_array.append(data[i])\n",
        "    for j in range(len(data)):\n",
        "      if (data_array[i]==data[j]):\n",
        "        freq+=1\n",
        "    \n",
        "    prob_array.append(freq)\n",
        "    freq=0\n",
        "  \n",
        "  events = np.sum(prob_array)\n",
        "  #Converts this array that holds frequencies, to the probability of each value occurring \n",
        "  for y in range(len(prob_array)):\n",
        "    prob = prob_array[y]/events\n",
        "    prob_array[y] = prob\n",
        "  \n",
        "  #E(X)=∑x*p(x)\n",
        "  for x in range(len(data_array)):\n",
        "    total += data_array[i]*prob_array[i]\n",
        "\n",
        "  return total"
      ],
      "execution_count": 0,
      "outputs": []
    },
    {
      "cell_type": "code",
      "metadata": {
        "id": "0UJyDblObpDy",
        "colab_type": "code",
        "outputId": "c34f260f-de09-478c-cdff-ee49943c85c3",
        "colab": {
          "base_uri": "https://localhost:8080/",
          "height": 34
        }
      },
      "source": [
        "getExpected(getGaussianData())"
      ],
      "execution_count": 82,
      "outputs": [
        {
          "output_type": "execute_result",
          "data": {
            "text/plain": [
              "1.1370908685705334"
            ]
          },
          "metadata": {
            "tags": []
          },
          "execution_count": 82
        }
      ]
    },
    {
      "cell_type": "code",
      "metadata": {
        "id": "4trr8vunzg2m",
        "colab_type": "code",
        "colab": {
          "base_uri": "https://localhost:8080/",
          "height": 34
        },
        "outputId": "c2e7a8ab-0f55-453e-950e-caa5f204b130"
      },
      "source": [
        "getExpected(getPoissonData())"
      ],
      "execution_count": 74,
      "outputs": [
        {
          "output_type": "execute_result",
          "data": {
            "text/plain": [
              "2.663629602082552"
            ]
          },
          "metadata": {
            "tags": []
          },
          "execution_count": 74
        }
      ]
    },
    {
      "cell_type": "code",
      "metadata": {
        "id": "GM0hyPOYBCwL",
        "colab_type": "code",
        "colab": {
          "base_uri": "https://localhost:8080/",
          "height": 34
        },
        "outputId": "84926f13-22de-41de-8729-faca6e8f1332"
      },
      "source": [
        "getExpected(getBinomialData())"
      ],
      "execution_count": 83,
      "outputs": [
        {
          "output_type": "execute_result",
          "data": {
            "text/plain": [
              "5.5225856219921186"
            ]
          },
          "metadata": {
            "tags": []
          },
          "execution_count": 83
        }
      ]
    },
    {
      "cell_type": "markdown",
      "metadata": {
        "id": "9mmwYn11BKIY",
        "colab_type": "text"
      },
      "source": [
        "#Deal or No Deal\n",
        "\"It is played with up to 26 cases (or, in some versions, boxes), each containing randomly assigned sums of money. The player claims (or is assigned) one case or a box at the start of the game, without its contents being revealed. The contestant then chooses the other cases or boxes, one at a time, to be immediately opened and removed from play. Throughout the game, the player is offered an amount of money or prizes to quit, being asked the titular question, \"Deal or no deal?\" If the contestant rejects every deal and eliminates all the other cases or boxes, the player keeps the money that was in the original case or box. Thus, the contestant \"wins\" depending on whether the player should have taken one of the deals or should have held onto the original case or box until the very end.\" - Wikipedia\n",
        "\n",
        "For this assigment we will use 19 boxes, and take away 3 at a time. The player has the option to choose a box, or let the programme choose. The player will also not get to take the option of 'Deal'. "
      ]
    },
    {
      "cell_type": "code",
      "metadata": {
        "id": "IdWBzA6uBSKO",
        "colab_type": "code",
        "colab": {}
      },
      "source": [
        ""
      ],
      "execution_count": 0,
      "outputs": []
    },
    {
      "cell_type": "markdown",
      "metadata": {
        "id": "Vg5DI8DqlMW8",
        "colab_type": "text"
      },
      "source": [
        "# References\n",
        "\n",
        "Stats usage and API:\n",
        "\n",
        "\n",
        "1.   Stats usage and API: https://www.datacamp.com/community/tutorials/probability-distributions-python\n",
        "2.   E(X):https://www.geeksforgeeks.org/expectation-expected-value-array/\n",
        "\n",
        "\n"
      ]
    }
  ]
}