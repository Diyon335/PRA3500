{
  "nbformat": 4,
  "nbformat_minor": 0,
  "metadata": {
    "colab": {
      "name": "final_Week1.ipynb",
      "provenance": [],
      "collapsed_sections": [],
      "authorship_tag": "ABX9TyMjf7VKJQIY/49f0T+FA7oN",
      "include_colab_link": true
    },
    "kernelspec": {
      "name": "python3",
      "display_name": "Python 3"
    }
  },
  "cells": [
    {
      "cell_type": "markdown",
      "metadata": {
        "id": "view-in-github",
        "colab_type": "text"
      },
      "source": [
        "<a href=\"https://colab.research.google.com/github/Diyon335/PRA3500/blob/master/Week1/final_Week1.ipynb\" target=\"_parent\"><img src=\"https://colab.research.google.com/assets/colab-badge.svg\" alt=\"Open In Colab\"/></a>"
      ]
    },
    {
      "cell_type": "markdown",
      "metadata": {
        "id": "mj6jsMmlOvwP",
        "colab_type": "text"
      },
      "source": [
        "### WEEK 1: PROBABILITY AND PROBABILITY DISTRIBUTIONS"
      ]
    },
    {
      "cell_type": "code",
      "metadata": {
        "id": "H2gbxP7vQ78f",
        "colab_type": "code",
        "colab": {}
      },
      "source": [
        "import matplotlib.pyplot as plt\n",
        "import numpy as np\n",
        "import scipy.stats \n",
        "\n",
        "from scipy.stats import norm, poisson, binom, expon, skew, kurtosis\n",
        "import random\n",
        "from random import randint\n",
        "\n",
        "import seaborn as sns\n",
        "sns.set(color_codes=True)\n",
        "sns.set(rc={'figure.figsize':(5,5)})"
      ],
      "execution_count": 0,
      "outputs": []
    },
    {
      "cell_type": "markdown",
      "metadata": {
        "id": "-B-HEH_7eRLq",
        "colab_type": "text"
      },
      "source": [
        "# Probability Relations"
      ]
    },
    {
      "cell_type": "code",
      "metadata": {
        "id": "oLK6XIIQF0eq",
        "colab_type": "code",
        "colab": {}
      },
      "source": [
        "#Bayes' theorem to infer P(A|B)\n",
        "def P_A_given_B(P_B_given_A , P_A , P_B):\n",
        "  return (P_B_given_A * P_A)/ P_B\n",
        "\n",
        "#Re-arrangement of P(B) = P(A)*P(B|A) OR P(Ac)*P(B|Ac) to get P(A). Infer the tree diagram a few cell blocks below\n",
        "def P_a(P_B, P_B_given_Ac ,P_B_given_A):\n",
        "  return (P_B - P_B_given_Ac)/(P_B_given_A - P_B_given_Ac)"
      ],
      "execution_count": 0,
      "outputs": []
    },
    {
      "cell_type": "markdown",
      "metadata": {
        "id": "D-Ew_F-gGsy4",
        "colab_type": "text"
      },
      "source": [
        "Let the event 'A' be choosing someone with antibodies\\\n",
        "Let the event 'B' be confirming that the person has antibodies\n",
        "\n",
        "Event B is done after A\n",
        "\n",
        "Xc denotes the complementary event of an event X\n",
        "\n",
        "P(A)  = 0.01 \\\n",
        "P(Ac) = 0.99\n",
        "\n",
        "P(B|A)   = 0.99\\\n",
        "P(Bc|A)  = 0.01\\\n",
        "P(B|Ac)  = 0.05\\\n",
        "P(Bc|Ac) = 0.95"
      ]
    },
    {
      "cell_type": "code",
      "metadata": {
        "id": "DqgDTDDWGqp2",
        "colab_type": "code",
        "outputId": "415dda83-c8eb-47ec-e900-400210ce84cb",
        "colab": {
          "base_uri": "https://localhost:8080/",
          "height": 34
        }
      },
      "source": [
        "P_A  = 0.01 \n",
        "P_Ac = 0.99\n",
        "\n",
        "P_B_given_A   = 0.99\n",
        "P_Bc_given_A  = 0.01\n",
        "P_B_given_Ac  = 0.05\n",
        "P_Bc_given_Ac = 0.95\n",
        "\n",
        "#Probability that the person was confirmed to have the antibodies P(B) = P(A)*P(B|A) OR P(Ac)*P(B|Ac)\n",
        "P_B = (P_A * P_B_given_A) + (P_Ac * P_B_given_Ac)\n",
        "\n",
        "#Therefore the probability that someone has the antibodies, given that he was confirmed to have the antibodies: P(A|B)\n",
        "P_A_given_B(P_B_given_A,P_A,P_B)"
      ],
      "execution_count": 3,
      "outputs": [
        {
          "output_type": "execute_result",
          "data": {
            "text/plain": [
              "0.16666666666666669"
            ]
          },
          "metadata": {
            "tags": []
          },
          "execution_count": 3
        }
      ]
    },
    {
      "cell_type": "markdown",
      "metadata": {
        "colab_type": "text",
        "id": "2Hicp1slQE0O"
      },
      "source": [
        "link to used tree diagram: https://prntscr.com/s0qf26\n"
      ]
    },
    {
      "cell_type": "code",
      "metadata": {
        "id": "oLx52kShLsJo",
        "colab_type": "code",
        "outputId": "69f060aa-fc60-4d12-de95-a51ab53e5886",
        "colab": {
          "base_uri": "https://localhost:8080/",
          "height": 34
        }
      },
      "source": [
        "#What should P(A) be for P(B) > 50% ?\n",
        "P_B          = 0.5\n",
        "P_B_given_Ac = 0.05\n",
        "P_B_given_A  = 0.99  \n",
        "\n",
        "P_A = P_a(P_B, P_B_given_Ac, P_B_given_A)\n",
        "\n",
        "print(\"The percentage of people with antibodies should be greater than: {}%\".format(int(P_A * 100)))"
      ],
      "execution_count": 4,
      "outputs": [
        {
          "output_type": "stream",
          "text": [
            "The percentage of people with antibodies should be greater than: 47%\n"
          ],
          "name": "stdout"
        }
      ]
    },
    {
      "cell_type": "code",
      "metadata": {
        "id": "K2qsyqL5Rx0_",
        "colab_type": "code",
        "outputId": "79c1d84a-16ef-4a38-c63a-0cf593444e82",
        "colab": {
          "base_uri": "https://localhost:8080/",
          "height": 356
        }
      },
      "source": [
        "#Chosen P(B) values\n",
        "P_B_array = [0.1 , 0.2 , 0.3 , 0.4 , 0.5 , 0.6 , 0.7 , 0.8]\n",
        "P_A_array = np.zeros(shape= len(P_B_array))\n",
        "\n",
        "for element in range(len(P_A_array)):\n",
        "  P_A_array[element] = P_a(P_B_array[element], P_B_given_Ac, P_B_given_A)\n",
        "\n",
        "plt.plot(P_A_array , P_B_array)\n",
        "plt.xlabel(\"P(A) : Fraction of people with antibodies\")\n",
        "plt.ylabel(\"P(B) : Fraction of people confirmed to have antibodies\")\n",
        "plt.title(\"Graph of P(B) vs. P(A)\")\n",
        "plt.show()"
      ],
      "execution_count": 5,
      "outputs": [
        {
          "output_type": "display_data",
          "data": {
            "image/png": "[encoded data removed]",
            "text/plain": [
              "<Figure size 432x288 with 1 Axes>"
            ]
          },
          "metadata": {
            "tags": [],
            "needs_background": "light"
          }
        }
      ]
    },
    {
      "cell_type": "markdown",
      "metadata": {
        "id": "nD83UUtOXoVa",
        "colab_type": "text"
      },
      "source": [
        "# Probability Distributions & Optional task"
      ]
    },
    {
      "cell_type": "code",
      "metadata": {
        "id": "4391v4n2WxET",
        "colab_type": "code",
        "colab": {}
      },
      "source": [
        "######################### Constants/ Defaults / Methods used #########################\n",
        "\n",
        "#The different shapes of distributions used for this exercise\n",
        "shapes = [\"Gaussian\", \"Poisson\",\"Binomial\",\"Exponential\"]\n",
        "\n",
        "size = 1000\n",
        "gauss_mean = 0\n",
        "gauss_std = 1\n",
        "\n",
        "poisson_mu = 2\n",
        "\n",
        "binom_p = 0.8\n",
        "binom_n = 10\n",
        "\n",
        "e_mean = 5\n",
        "\n",
        "#Gets a cumulative distribution function of specified shape and data\n",
        "def getShapeCDF(shape,data):\n",
        "  if(shape==\"Gaussian\"):\n",
        "    return norm.cdf(data)\n",
        "  if(shape==\"Poisson\"):\n",
        "    return poisson.cdf(data,poisson_mu)\n",
        "  if(shape==\"Binomial\"):\n",
        "    return binom.cdf(data,binom_n,binom_p)\n",
        "  if(shape==\"Exponential\"):\n",
        "    return expon.cdf(data,e_mean)\n",
        "  \n",
        "  return \"Shape does not exist\"\n",
        "\n",
        "#checks if your range is of type: array\n",
        "def isArray(array):\n",
        "  try:\n",
        "    size = len(array)\n",
        "  except:\n",
        "    print(\"The object containing your range of values must be an array with size (2)\")\n",
        "    return False\n",
        "  return True\n",
        "\n",
        "#checks if your range is proper, i.e. has two values only: min and max\n",
        "def isValidRange(array):\n",
        "  if(len(array) != 2):\n",
        "    print (\"The object containing your range of values must be of size (2)\")\n",
        "    return False\n",
        "  return True\n",
        "#Checks if your shape is valid\n",
        "def isValidShape(shape):\n",
        "  for i in range(len(shapes)):\n",
        "    if(shapes[i]==shape):\n",
        "      return True\n",
        "  return False\n",
        "\n",
        "######################### Types of distributions #########################\n",
        "\n",
        "#Gaussian\n",
        "def getGaussianData():\n",
        "  return norm.rvs(size = size, loc = gauss_mean, scale = gauss_std)\n",
        "\n",
        "#Poisson\n",
        "def getPoissonData():\n",
        "  return poisson.rvs(size = size, mu=poisson_mu)\n",
        "\n",
        "#Binomial\n",
        "def getBinomialData():\n",
        "  return binom.rvs(size=size, p = binom_p, n= binom_n)\n",
        "\n",
        "#Exponential\n",
        "def getExpoData():\n",
        "  return expon.rvs(size=size, loc= e_mean)\n",
        "\n",
        "######################### plotter #########################\n",
        "\n",
        "def plotDistribution(shape, data, xRange, cdfRange, xTitle, yTitle, computeCDF = True, displayContinuousDist = False):\n",
        "  #conduct checks to see if entered data is valid\n",
        "  if(isValidShape(shape)==False):\n",
        "    print(\"Invalid shape\")\n",
        "    return\n",
        "  if(isArray(xRange) == False):\n",
        "    return\n",
        "  if(computeCDF):\n",
        "    if(isArray(cdfRange)==False):\n",
        "      return\n",
        "    if(isValidRange(cdfRange)==False):\n",
        "      return\n",
        "    #get the area from the CDF of the data\n",
        "    area = getShapeCDF(shape, cdfRange[1]) - getShapeCDF(shape, cdfRange[0])\n",
        "    \n",
        "  else:\n",
        "    area = \"Not computed\"\n",
        "  \n",
        "  if(isValidRange(xRange)==False):\n",
        "    return\n",
        "  #plot the distribution\n",
        "  ax = sns.distplot(data,bins=10,hist=True,color='black',kde = displayContinuousDist, hist_kws={\"color\":'blue',\"edgecolor\":\"skyblue\",\"linewidth\":0, \"alpha\":1},norm_hist=True)\n",
        "  \n",
        "  ax.set(xlabel = xTitle , ylabel = yTitle, xlim = (xRange[0],xRange[1]))\n",
        "  #display required inferred stats\n",
        "  print(\"P({} < x < {}) = {}\".format(cdfRange[0],cdfRange[1],area))\n",
        "  print(\"Mean: {}\".format(np.mean(data)))\n",
        "  print(\"Variance: {}\".format(np.var(data)))\n",
        "  print(\"Skew: {}\".format(skew(data)))\n",
        "  print(\"Kurtosis: {}\".format(kurtosis(data)))\n",
        "  return \n",
        "\n",
        "\n",
        "\n"
      ],
      "execution_count": 0,
      "outputs": []
    },
    {
      "cell_type": "code",
      "metadata": {
        "id": "CMoz-iB1noZn",
        "colab_type": "code",
        "outputId": "1e3c4d5c-d5ed-41a3-cf71-2159c9aee8c2",
        "colab": {
          "base_uri": "https://localhost:8080/",
          "height": 370
        }
      },
      "source": [
        "xValues = [-5,5]\n",
        "cdf = [-33,93]\n",
        "\n",
        "plotDistribution(\"Gaussian\", getGaussianData(), xValues, cdf , \"Gaussian Distribution\",\"Frequency\",True,True)"
      ],
      "execution_count": 7,
      "outputs": [
        {
          "output_type": "stream",
          "text": [
            "P(-33 < x < 93) = 1.0\n",
            "Mean: 0.06134015519395885\n",
            "Variance: 0.9745500361035734\n",
            "Skew: 0.05430356884059354\n",
            "Kurtosis: 0.22021759262349594\n"
          ],
          "name": "stdout"
        },
        {
          "output_type": "display_data",
          "data": {
            "image/png": "[encoded data removed]",
            "text/plain": [
              "<Figure size 432x288 with 1 Axes>"
            ]
          },
          "metadata": {
            "tags": [],
            "needs_background": "light"
          }
        }
      ]
    },
    {
      "cell_type": "code",
      "metadata": {
        "id": "HgX6maa9QuJM",
        "colab_type": "code",
        "outputId": "875c2c64-89a8-4263-be4e-e624f1fab012",
        "colab": {
          "base_uri": "https://localhost:8080/",
          "height": 370
        }
      },
      "source": [
        "xValues = [-5,15]\n",
        "cdf = [-3,7.5]\n",
        "\n",
        "plotDistribution(\"Poisson\", getPoissonData(), xValues, cdf , \"Poisson Distribution\",\"Frequency\",True,True)"
      ],
      "execution_count": 8,
      "outputs": [
        {
          "output_type": "stream",
          "text": [
            "P(-3 < x < 7.5) = 0.9989032810321413\n",
            "Mean: 2.01\n",
            "Variance: 2.1338999999999997\n",
            "Skew: 0.7410499812785588\n",
            "Kurtosis: 0.647351231112451\n"
          ],
          "name": "stdout"
        },
        {
          "output_type": "display_data",
          "data": {
            "image/png": "[encoded data removed]",
            "text/plain": [
              "<Figure size 432x288 with 1 Axes>"
            ]
          },
          "metadata": {
            "tags": [],
            "needs_background": "light"
          }
        }
      ]
    },
    {
      "cell_type": "code",
      "metadata": {
        "id": "CkACnqlTkk6B",
        "colab_type": "code",
        "outputId": "dc190524-ad4a-4d31-8c0f-836fa4181e60",
        "colab": {
          "base_uri": "https://localhost:8080/",
          "height": 370
        }
      },
      "source": [
        "xValues = [0,10]\n",
        "cdf = [-3,7.5]\n",
        "\n",
        "plotDistribution(\"Binomial\", getBinomialData(), xValues, cdf , \"Binomial Distribution\",\"Frequency\",True,True)"
      ],
      "execution_count": 9,
      "outputs": [
        {
          "output_type": "stream",
          "text": [
            "P(-3 < x < 7.5) = 0.3222004736\n",
            "Mean: 7.95\n",
            "Variance: 1.5735\n",
            "Skew: -0.5075777562960485\n",
            "Kurtosis: 0.03728519573016298\n"
          ],
          "name": "stdout"
        },
        {
          "output_type": "display_data",
          "data": {
            "image/png": "[encoded data removed]",
            "text/plain": [
              "<Figure size 432x288 with 1 Axes>"
            ]
          },
          "metadata": {
            "tags": [],
            "needs_background": "light"
          }
        }
      ]
    },
    {
      "cell_type": "code",
      "metadata": {
        "id": "8Mm8ml77p9n6",
        "colab_type": "code",
        "outputId": "78a2b391-bb58-42e7-80a7-d70e36d87170",
        "colab": {
          "base_uri": "https://localhost:8080/",
          "height": 370
        }
      },
      "source": [
        "xValues = [0,10]\n",
        "cdf = [5,13]\n",
        "\n",
        "plotDistribution(\"Exponential\", getExpoData(), xValues, cdf , \"Exponential Distribution\",\"Frequency\",True,True)"
      ],
      "execution_count": 10,
      "outputs": [
        {
          "output_type": "stream",
          "text": [
            "P(5 < x < 13) = 0.9996645373720975\n",
            "Mean: 5.940334792030557\n",
            "Variance: 0.7662013109167696\n",
            "Skew: 1.8344224076422846\n",
            "Kurtosis: 5.1132231663147785\n"
          ],
          "name": "stdout"
        },
        {
          "output_type": "display_data",
          "data": {
            "image/png": "[encoded data removed]",
            "text/plain": [
              "<Figure size 432x288 with 1 Axes>"
            ]
          },
          "metadata": {
            "tags": [],
            "needs_background": "light"
          }
        }
      ]
    },
    {
      "cell_type": "markdown",
      "metadata": {
        "id": "ulcD5aAWbF4A",
        "colab_type": "text"
      },
      "source": [
        "# Expected values"
      ]
    },
    {
      "cell_type": "code",
      "metadata": {
        "id": "8kdXqpXpYWbk",
        "colab_type": "code",
        "colab": {}
      },
      "source": [
        "#Returns the expected value of a distribution\n",
        "def getExpected(data):\n",
        "  data_array = []\n",
        "  prob_array = []\n",
        "  freq = 0\n",
        "  total = 0\n",
        "  #appends each value from the distribution to the array. Gets the frequency of each value\n",
        "  for i in range(len(data)):\n",
        "    data_array.append(data[i])\n",
        "    for j in range(len(data)):\n",
        "      if (data_array[i]==data[j]):\n",
        "        freq+=1\n",
        "    \n",
        "    prob_array.append(freq)\n",
        "    freq=0\n",
        "  \n",
        "  events = np.sum(prob_array)\n",
        "  #Converts this array that holds frequencies, to the probability of each value occurring \n",
        "  for y in range(len(prob_array)):\n",
        "    prob = prob_array[y]/events\n",
        "    prob_array[y] = prob\n",
        "  \n",
        "  #E(X)=∑x*p(x)\n",
        "  for x in range(len(data_array)):\n",
        "    total += data_array[i]*prob_array[i]\n",
        "\n",
        "  return total"
      ],
      "execution_count": 0,
      "outputs": []
    },
    {
      "cell_type": "code",
      "metadata": {
        "id": "0UJyDblObpDy",
        "colab_type": "code",
        "outputId": "2a97cc8f-539f-488c-c93a-8941a3687c53",
        "colab": {
          "base_uri": "https://localhost:8080/",
          "height": 34
        }
      },
      "source": [
        "getExpected(getGaussianData())"
      ],
      "execution_count": 12,
      "outputs": [
        {
          "output_type": "execute_result",
          "data": {
            "text/plain": [
              "0.4057627116547282"
            ]
          },
          "metadata": {
            "tags": []
          },
          "execution_count": 12
        }
      ]
    },
    {
      "cell_type": "code",
      "metadata": {
        "id": "4trr8vunzg2m",
        "colab_type": "code",
        "outputId": "d5813c63-f826-410e-9925-e2225dcd3aba",
        "colab": {
          "base_uri": "https://localhost:8080/",
          "height": 34
        }
      },
      "source": [
        "getExpected(getPoissonData())"
      ],
      "execution_count": 13,
      "outputs": [
        {
          "output_type": "execute_result",
          "data": {
            "text/plain": [
              "2.6818736324380446"
            ]
          },
          "metadata": {
            "tags": []
          },
          "execution_count": 13
        }
      ]
    },
    {
      "cell_type": "code",
      "metadata": {
        "id": "GM0hyPOYBCwL",
        "colab_type": "code",
        "outputId": "13c66337-d666-48cb-d2a3-2af6351d11bb",
        "colab": {
          "base_uri": "https://localhost:8080/",
          "height": 34
        }
      },
      "source": [
        "getExpected(getBinomialData())"
      ],
      "execution_count": 14,
      "outputs": [
        {
          "output_type": "execute_result",
          "data": {
            "text/plain": [
              "11.501469409564534"
            ]
          },
          "metadata": {
            "tags": []
          },
          "execution_count": 14
        }
      ]
    },
    {
      "cell_type": "markdown",
      "metadata": {
        "id": "9mmwYn11BKIY",
        "colab_type": "text"
      },
      "source": [
        "#Deal or No Deal\n",
        "\n",
        "For this assigment we will use 20 boxes, and take away 3 at a time. The following code only represents a 'snapshot' after a player has chosen his/her box. The code will not play out the entire game. It only focuses on using the getExpected() method above"
      ]
    },
    {
      "cell_type": "code",
      "metadata": {
        "id": "XIxmnu4JwTJ9",
        "colab_type": "code",
        "colab": {}
      },
      "source": [
        "#returns a random integer\n",
        "def getRandInt(top):\n",
        "  return randint(1,top)\n",
        "#banker makes an offer\n",
        "def makeOffer(expecValue):\n",
        "  #0.8 = how much the banker wants to offer you based on E(X)\n",
        "  return int(expecValue*0.8)\n",
        "#run method with your box number\n",
        "def play(your_box):\n",
        "  cash_prizes = [5,10,20,100,500,750,1000,5000,7500,10000,50000,75000,100000,150000,200000,250000,300000,500000,750000,1000000]\n",
        "  won = 0\n",
        "  take = 3\n",
        "  deal = 0\n",
        "  #shuffle the boxes\n",
        "  prizes = random.sample(cash_prizes,len(cash_prizes))\n",
        "  won = prizes[your_box-1]\n",
        "  prizes.pop(your_box-1)\n",
        "  #take away 3\n",
        "  i=0\n",
        "  taken = []\n",
        "  while(i<take):\n",
        "    number = getRandInt(len(prizes))\n",
        "    prize = prizes[number]\n",
        "    taken.append(prize)\n",
        "    prizes.pop(number)\n",
        "    i+=1\n",
        "\n",
        "  prizes.append(won)\n",
        "  #get the expected\n",
        "  expected = getExpected(prizes)\n",
        "  deal = makeOffer(expected)\n",
        "  print(\"The boxes you opened contained: {}\".format(taken))\n",
        "  print(\"The expected value of your box: {}\".format(expected))\n",
        "  print(\"The banker offers you: {}\".format(deal))\n",
        "  print(\"\")\n",
        "  print(\"\")\n",
        "  #just a check\n",
        "  print(\"Your box actually has: {}\".format(won))\n",
        "  \n",
        "\n"
      ],
      "execution_count": 0,
      "outputs": []
    },
    {
      "cell_type": "code",
      "metadata": {
        "id": "3M5kmBfq3NKJ",
        "colab_type": "code",
        "colab": {
          "base_uri": "https://localhost:8080/",
          "height": 119
        },
        "outputId": "d8d3309d-68a3-41fc-eb31-e616b3df22ad"
      },
      "source": [
        "play(20)"
      ],
      "execution_count": 81,
      "outputs": [
        {
          "output_type": "stream",
          "text": [
            "The boxes you opened contained: [5000, 10000, 1000]\n",
            "The expected value of your box: 149999.99999999994\n",
            "The banker offers you: 119999\n",
            "\n",
            "\n",
            "Your box actually has: 150000\n"
          ],
          "name": "stdout"
        }
      ]
    },
    {
      "cell_type": "markdown",
      "metadata": {
        "id": "Vg5DI8DqlMW8",
        "colab_type": "text"
      },
      "source": [
        "# References\n",
        "\n",
        "Stats usage and API:\n",
        "\n",
        "\n",
        "1.   Stats usage and API: https://www.datacamp.com/community/tutorials/probability-distributions-python\n",
        "2.   E(X):https://www.geeksforgeeks.org/expectation-expected-value-array/\n",
        "\n",
        "\n"
      ]
    }
  ]
}