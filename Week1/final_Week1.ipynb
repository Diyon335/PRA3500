{
  "nbformat": 4,
  "nbformat_minor": 0,
  "metadata": {
    "colab": {
      "name": "final_Week1.ipynb",
      "provenance": [],
      "collapsed_sections": [],
      "authorship_tag": "ABX9TyMRqFkGOn7VdXcEV0IaHuMn",
      "include_colab_link": true
    },
    "kernelspec": {
      "name": "python3",
      "display_name": "Python 3"
    }
  },
  "cells": [
    {
      "cell_type": "markdown",
      "metadata": {
        "id": "view-in-github",
        "colab_type": "text"
      },
      "source": [
        "<a href=\"https://colab.research.google.com/github/Diyon335/PRA3500/blob/master/Week1/final_Week1.ipynb\" target=\"_parent\"><img src=\"https://colab.research.google.com/assets/colab-badge.svg\" alt=\"Open In Colab\"/></a>"
      ]
    },
    {
      "cell_type": "markdown",
      "metadata": {
        "id": "mj6jsMmlOvwP",
        "colab_type": "text"
      },
      "source": [
        "### WEEK 1: PROBABILITY AND PROBABILITY DISTRIBUTIONS"
      ]
    },
    {
      "cell_type": "code",
      "metadata": {
        "id": "H2gbxP7vQ78f",
        "colab_type": "code",
        "colab": {}
      },
      "source": [
        "import matplotlib.pyplot as plt\n",
        "import numpy as np\n",
        "import scipy.stats \n",
        "\n",
        "from scipy.stats import norm\n",
        "from scipy.stats import poisson\n",
        "from scipy.stats import binom\n",
        "from scipy.stats import expon\n",
        "from scipy.stats import skew\n",
        "from scipy.stats import kurtosis\n",
        "\n",
        "import seaborn as sns\n",
        "sns.set(color_codes=True)\n",
        "sns.set(rc={'figure.figsize':(5,5)})"
      ],
      "execution_count": 0,
      "outputs": []
    },
    {
      "cell_type": "markdown",
      "metadata": {
        "id": "-B-HEH_7eRLq",
        "colab_type": "text"
      },
      "source": [
        "# Probability Relations"
      ]
    },
    {
      "cell_type": "code",
      "metadata": {
        "id": "oLK6XIIQF0eq",
        "colab_type": "code",
        "colab": {}
      },
      "source": [
        "#Bayes' theorem to infer P(A|B)\n",
        "def P_A_given_B(P_B_given_A , P_A , P_B):\n",
        "  return (P_B_given_A * P_A)/ P_B\n",
        "\n",
        "#Re-arrangement of P(B) = P(A)*P(B|A) OR P(Ac)*P(B|Ac) to get P(A). Infer the tree diagram a few cell blocks below\n",
        "def P_a(P_B, P_B_given_Ac ,P_B_given_A):\n",
        "  return (P_B - P_B_given_Ac)/(P_B_given_A - P_B_given_Ac)"
      ],
      "execution_count": 0,
      "outputs": []
    },
    {
      "cell_type": "markdown",
      "metadata": {
        "id": "D-Ew_F-gGsy4",
        "colab_type": "text"
      },
      "source": [
        "Let the event 'A' be choosing someone with antibodies\\\n",
        "Let the event 'B' be confirming that the person has antibodies\n",
        "\n",
        "Event B is done after A\n",
        "\n",
        "Xc denotes the complementary event of an event X\n",
        "\n",
        "P(A)  = 0.01 \\\n",
        "P(Ac) = 0.99\n",
        "\n",
        "P(B|A)   = 0.99\\\n",
        "P(Bc|A)  = 0.01\\\n",
        "P(B|Ac)  = 0.05\\\n",
        "P(Bc|Ac) = 0.95"
      ]
    },
    {
      "cell_type": "code",
      "metadata": {
        "id": "DqgDTDDWGqp2",
        "colab_type": "code",
        "outputId": "bfd93805-a252-4498-dd71-75e4d16e7dd4",
        "colab": {
          "base_uri": "https://localhost:8080/",
          "height": 34
        }
      },
      "source": [
        "P_A  = 0.01 \n",
        "P_Ac = 0.99\n",
        "\n",
        "P_B_given_A   = 0.99\n",
        "P_Bc_given_A  = 0.01\n",
        "P_B_given_Ac  = 0.05\n",
        "P_Bc_given_Ac = 0.95\n",
        "\n",
        "#Probability that the person was confirmed to have the antibodies P(B) = P(A)*P(B|A) OR P(Ac)*P(B|Ac)\n",
        "P_B = (P_A * P_B_given_A) + (P_Ac * P_B_given_Ac)\n",
        "\n",
        "#Therefore the probability that someone has the antibodies, given that he was confirmed to have the antibodies: P(A|B)\n",
        "P_A_given_B(P_B_given_A,P_A,P_B)"
      ],
      "execution_count": 3,
      "outputs": [
        {
          "output_type": "execute_result",
          "data": {
            "text/plain": [
              "0.16666666666666669"
            ]
          },
          "metadata": {
            "tags": []
          },
          "execution_count": 3
        }
      ]
    },
    {
      "cell_type": "markdown",
      "metadata": {
        "colab_type": "text",
        "id": "2Hicp1slQE0O"
      },
      "source": [
        "![picture](https://drive.google.com/uc?id=1lvTl1cdv6Y2xR_K1Mw3WMQ98jl9oGk82)"
      ]
    },
    {
      "cell_type": "code",
      "metadata": {
        "id": "oLx52kShLsJo",
        "colab_type": "code",
        "outputId": "73c10587-f992-4b53-eef1-125931bf4027",
        "colab": {
          "base_uri": "https://localhost:8080/",
          "height": 34
        }
      },
      "source": [
        "#What should P(A) be for P(B) > 50% ?\n",
        "P_B          = 0.5\n",
        "P_B_given_Ac = 0.05\n",
        "P_B_given_A  = 0.99  \n",
        "\n",
        "P_A = P_a(P_B, P_B_given_Ac, P_B_given_A)\n",
        "\n",
        "print(\"The percentage of people with antibodies should be greater than: {}%\".format(int(P_A * 100)))"
      ],
      "execution_count": 4,
      "outputs": [
        {
          "output_type": "stream",
          "text": [
            "The percentage of people with antibodies should be greater than: 47%\n"
          ],
          "name": "stdout"
        }
      ]
    },
    {
      "cell_type": "code",
      "metadata": {
        "id": "K2qsyqL5Rx0_",
        "colab_type": "code",
        "outputId": "d31c3b72-4326-45f8-be90-b4a139a119da",
        "colab": {
          "base_uri": "https://localhost:8080/",
          "height": 356
        }
      },
      "source": [
        "#Chosen P(B) values\n",
        "P_B_array = [0.1 , 0.2 , 0.3 , 0.4 , 0.5 , 0.6 , 0.7 , 0.8]\n",
        "P_A_array = np.zeros(shape= len(P_B_array))\n",
        "\n",
        "for element in range(len(P_A_array)):\n",
        "  P_A_array[element] = P_a(P_B_array[element], P_B_given_Ac, P_B_given_A)\n",
        "\n",
        "plt.plot(P_A_array , P_B_array)\n",
        "plt.xlabel(\"P(A) : Fraction of people with antibodies\")\n",
        "plt.ylabel(\"P(B) : Fraction of people confirmed to have antibodies\")\n",
        "plt.title(\"Graph of P(B) vs. P(A)\")\n",
        "plt.show()"
      ],
      "execution_count": 5,
      "outputs": [
        {
          "output_type": "display_data",
          "data": {
            "image/png": "[encoded data removed]",
            "text/plain": [
              "<Figure size 432x288 with 1 Axes>"
            ]
          },
          "metadata": {
            "tags": [],
            "needs_background": "light"
          }
        }
      ]
    },
    {
      "cell_type": "markdown",
      "metadata": {
        "id": "nD83UUtOXoVa",
        "colab_type": "text"
      },
      "source": [
        "# Probability Distributions & Optional task"
      ]
    },
    {
      "cell_type": "code",
      "metadata": {
        "id": "4391v4n2WxET",
        "colab_type": "code",
        "colab": {}
      },
      "source": [
        "######################### Constants/ Defaults / Methods used #########################\n",
        "\n",
        "#The different shapes of distributions used for this exercise\n",
        "shapes = [\"Gaussian\", \"Poisson\",\"Binomial\",\"Exponential\"]\n",
        "\n",
        "size = 1000\n",
        "gauss_mean = 0\n",
        "gauss_std = 1\n",
        "\n",
        "poisson_mu = 3\n",
        "\n",
        "binom_p = 0.8\n",
        "binom_n = 10\n",
        "\n",
        "e_mean = 5\n",
        "\n",
        "#Gets a cumulative distribution function of specified shape and data\n",
        "def getShapeCDF(shape,data):\n",
        "  if(shape==\"Gaussian\"):\n",
        "    return norm.cdf(data)\n",
        "  if(shape==\"Poisson\"):\n",
        "    return poisson.cdf(data,poisson_mu)\n",
        "  if(shape==\"Binomial\"):\n",
        "    return binom.cdf(data,binom_n,binom_p)\n",
        "  if(shape==\"Exponential\"):\n",
        "    return expon.cdf(data,e_mean)\n",
        "  \n",
        "  return \"Shape does not exist\"\n",
        "\n",
        "#checks if your range is of type: array\n",
        "def isArray(array):\n",
        "  try:\n",
        "    size = len(array)\n",
        "  except:\n",
        "    print(\"The object containing your range of values must be an array with size (2)\")\n",
        "    return False\n",
        "  return True\n",
        "\n",
        "#checks if your range is proper, i.e. has two values only: min and max\n",
        "def isValidRange(array):\n",
        "  if(len(array) != 2):\n",
        "    print (\"The object containing your range of values must be of size (2)\")\n",
        "    return False\n",
        "  return True\n",
        "#Checks if your shape is valid\n",
        "def isValidShape(shape):\n",
        "  for i in range(len(shapes)):\n",
        "    if(shapes[i]==shape):\n",
        "      return True\n",
        "  return False\n",
        "\n",
        "\n",
        "######################### Types of distributions #########################\n",
        "\n",
        "#Gaussian\n",
        "def getGaussianData():\n",
        "  return norm.rvs(size = size, loc = gauss_mean, scale = gauss_std)\n",
        "\n",
        "#Poisson\n",
        "def getPoissonData():\n",
        "  return poisson.rvs(size = size, mu=poisson_mu)\n",
        "\n",
        "#Binomial\n",
        "def getBinomialData():\n",
        "  return binom.rvs(size=size, p = binom_p, n= binom_n)\n",
        "\n",
        "#Exponential\n",
        "def getExpoData():\n",
        "  return expon.rvs(size=size, loc= e_mean)\n",
        "\n",
        "######################### plotter #########################\n",
        "\n",
        "def plotDistribution(shape, data, xRange, cdfRange, xTitle, yTitle, computeCDF = True, displayContinuousDist = False):\n",
        "  if(isValidShape(shape)==False):\n",
        "    print(\"Invalid shape\")\n",
        "    return\n",
        "  if(isArray(xRange) == False):\n",
        "    return\n",
        "  if(computeCDF):\n",
        "    if(isArray(cdfRange)==False):\n",
        "      return\n",
        "    if(isValidRange(cdfRange)==False):\n",
        "      return\n",
        "    \n",
        "    area = getShapeCDF(shape, cdfRange[1]) - getShapeCDF(shape, cdfRange[0])\n",
        "    \n",
        "  else:\n",
        "    area = \"Not computed\"\n",
        "  \n",
        "  if(isValidRange(xRange)==False):\n",
        "    return\n",
        "\n",
        "  ax = sns.distplot(data,bins=20,hist=True,kde = displayContinuousDist, hist_kws={\"edgecolor\":\"skyblue\",\"linewidth\":15 , \"alpha\":1},norm_hist=True)\n",
        "  \n",
        "  ax.set(xlabel = xTitle , ylabel = yTitle, xlim = (xRange[0],xRange[1]))\n",
        "\n",
        "  print(\"P({} < x < {}) = {}\".format(cdfRange[0],cdfRange[1],area))\n",
        "  print(\"Mean: {}\".format(np.mean(data)))\n",
        "  print(\"Variance: {}\".format(np.var(data)))\n",
        "  print(\"Skew: {}\".format(skew(data)))\n",
        "  print(\"Kurtosis: {}\".format(kurtosis(data)))\n",
        "  return \n",
        "\n",
        "\n",
        "\n"
      ],
      "execution_count": 0,
      "outputs": []
    },
    {
      "cell_type": "code",
      "metadata": {
        "id": "CMoz-iB1noZn",
        "colab_type": "code",
        "outputId": "c714a569-1a46-4cca-9ec6-2c0b8d90047f",
        "colab": {
          "base_uri": "https://localhost:8080/",
          "height": 424
        }
      },
      "source": [
        "xValues = [-5,5]\n",
        "cdf = [-33,93]\n",
        "\n",
        "plotDistribution(\"Gaussian\", getGaussianData(), xValues, cdf , \"Gaussian Distribution\",\"Frequency\",True,True)"
      ],
      "execution_count": 17,
      "outputs": [
        {
          "output_type": "stream",
          "text": [
            "P(-33 < x < 93) = 1.0\n",
            "Mean: 0.05006781694272767\n",
            "Variance: 1.0805128370830674\n",
            "Skew: 0.09255891546595958\n",
            "Kurtosis: 0.02741171170427137\n"
          ],
          "name": "stdout"
        },
        {
          "output_type": "display_data",
          "data": {
            "image/png": "[encoded data removed]",
            "text/plain": [
              "<Figure size 360x360 with 1 Axes>"
            ]
          },
          "metadata": {
            "tags": []
          }
        }
      ]
    },
    {
      "cell_type": "code",
      "metadata": {
        "id": "HgX6maa9QuJM",
        "colab_type": "code",
        "outputId": "2f90fd14-33a8-412c-f485-00004de696d0",
        "colab": {
          "base_uri": "https://localhost:8080/",
          "height": 370
        }
      },
      "source": [
        "xValues = [-1,15]\n",
        "cdf = [-3,7.5]\n",
        "\n",
        "plotDistribution(\"Poisson\", getPoissonData(), xValues, cdf , \"Poisson Distribution\",\"Frequency\",True,True)"
      ],
      "execution_count": 0,
      "outputs": [
        {
          "output_type": "stream",
          "text": [
            "P(-3 < x < 7.5) = 0.9880954961436426\n",
            "Mean: 2.982\n",
            "Variance: 2.961676\n",
            "Skew: 0.45045718890881314\n",
            "Kurtosis: 0.08242302774974908\n"
          ],
          "name": "stdout"
        },
        {
          "output_type": "display_data",
          "data": {
            "image/png": "[encoded data removed]",
            "text/plain": [
              "<Figure size 432x288 with 1 Axes>"
            ]
          },
          "metadata": {
            "tags": [],
            "needs_background": "light"
          }
        }
      ]
    },
    {
      "cell_type": "code",
      "metadata": {
        "id": "CkACnqlTkk6B",
        "colab_type": "code",
        "outputId": "854a2465-3bab-4db8-9182-5ad40059eea2",
        "colab": {
          "base_uri": "https://localhost:8080/",
          "height": 370
        }
      },
      "source": [
        "xValues = [0,15]\n",
        "cdf = [-3,7.5]\n",
        "\n",
        "plotDistribution(\"Binomial\", getBinomialData(), xValues, cdf , \"Binomial Distribution\",\"Frequency\",True,True)"
      ],
      "execution_count": 0,
      "outputs": [
        {
          "output_type": "stream",
          "text": [
            "P(-3 < x < 7.5) = 0.3222004736\n",
            "Mean: 7.982\n",
            "Variance: 1.591676\n",
            "Skew: -0.4621536722631346\n",
            "Kurtosis: 0.09228154575316783\n"
          ],
          "name": "stdout"
        },
        {
          "output_type": "display_data",
          "data": {
            "image/png": "[encoded data removed]",
            "text/plain": [
              "<Figure size 432x288 with 1 Axes>"
            ]
          },
          "metadata": {
            "tags": [],
            "needs_background": "light"
          }
        }
      ]
    },
    {
      "cell_type": "code",
      "metadata": {
        "id": "8Mm8ml77p9n6",
        "colab_type": "code",
        "outputId": "992e4bd0-21eb-4ff1-ec8e-48427bc86fae",
        "colab": {
          "base_uri": "https://localhost:8080/",
          "height": 370
        }
      },
      "source": [
        "xValues = [4,15]\n",
        "cdf = [5,13]\n",
        "\n",
        "plotDistribution(\"Exponential\", getExpoData(), xValues, cdf , \"Exponential Distribution\",\"Frequency\",True,True)"
      ],
      "execution_count": 0,
      "outputs": [
        {
          "output_type": "stream",
          "text": [
            "P(5 < x < 13) = 0.9996645373720975\n",
            "Mean: 6.0111537661370615\n",
            "Variance: 0.9863762544930614\n",
            "Skew: 1.78001960133419\n",
            "Kurtosis: 3.982292670472182\n"
          ],
          "name": "stdout"
        },
        {
          "output_type": "display_data",
          "data": {
            "image/png": "[encoded data removed]",
            "text/plain": [
              "<Figure size 432x288 with 1 Axes>"
            ]
          },
          "metadata": {
            "tags": [],
            "needs_background": "light"
          }
        }
      ]
    },
    {
      "cell_type": "markdown",
      "metadata": {
        "id": "ulcD5aAWbF4A",
        "colab_type": "text"
      },
      "source": [
        "# Expected values"
      ]
    },
    {
      "cell_type": "code",
      "metadata": {
        "id": "8kdXqpXpYWbk",
        "colab_type": "code",
        "colab": {}
      },
      "source": [
        "def p_gaussian(x):\n",
        "  return stats.norm.pdf(x)\n",
        "\n",
        "def getExpected(function):\n",
        "  return stats.norm.expect(function,lb=-100000,ub=100000)"
      ],
      "execution_count": 0,
      "outputs": []
    },
    {
      "cell_type": "code",
      "metadata": {
        "id": "0UJyDblObpDy",
        "colab_type": "code",
        "outputId": "a6f1279d-d634-446e-9821-b2fc8fa15d5f",
        "colab": {
          "base_uri": "https://localhost:8080/",
          "height": 34
        }
      },
      "source": [
        "getExpected(p_gaussian)"
      ],
      "execution_count": 0,
      "outputs": [
        {
          "output_type": "execute_result",
          "data": {
            "text/plain": [
              "0.0"
            ]
          },
          "metadata": {
            "tags": []
          },
          "execution_count": 86
        }
      ]
    }
  ]
}