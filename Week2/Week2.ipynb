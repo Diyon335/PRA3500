{
  "nbformat": 4,
  "nbformat_minor": 0,
  "metadata": {
    "colab": {
      "name": "Week2",
      "provenance": [],
      "collapsed_sections": [],
      "toc_visible": true,
      "authorship_tag": "ABX9TyNbZGLB6v3KF+Exhetl1swW",
      "include_colab_link": true
    },
    "kernelspec": {
      "name": "python3",
      "display_name": "Python 3"
    }
  },
  "cells": [
    {
      "cell_type": "markdown",
      "metadata": {
        "id": "view-in-github",
        "colab_type": "text"
      },
      "source": [
        "<a href=\"https://colab.research.google.com/github/Diyon335/PRA3500/blob/master/Week2/Week2.ipynb\" target=\"_parent\"><img src=\"https://colab.research.google.com/assets/colab-badge.svg\" alt=\"Open In Colab\"/></a>"
      ]
    },
    {
      "cell_type": "code",
      "metadata": {
        "id": "aNeVzP6hnsZA",
        "colab_type": "code",
        "colab": {
          "base_uri": "https://localhost:8080/",
          "height": 71
        },
        "outputId": "f463842d-bcb1-4edd-e006-95087b1c2a78"
      },
      "source": [
        "from scipy.stats import poisson\n",
        "import math\n",
        "import numpy as np\n",
        "import seaborn as sn\n",
        "import matplotlib.pyplot as plt"
      ],
      "execution_count": 17,
      "outputs": [
        {
          "output_type": "stream",
          "text": [
            "/usr/local/lib/python3.6/dist-packages/statsmodels/tools/_testing.py:19: FutureWarning: pandas.util.testing is deprecated. Use the functions in the public API at pandas.testing instead.\n",
            "  import pandas.util.testing as tm\n"
          ],
          "name": "stderr"
        }
      ]
    },
    {
      "cell_type": "markdown",
      "metadata": {
        "id": "zxJ3fG7_oQ5t",
        "colab_type": "text"
      },
      "source": [
        "#Errors and Probability"
      ]
    },
    {
      "cell_type": "markdown",
      "metadata": {
        "id": "6E_HoZIwu0jV",
        "colab_type": "text"
      },
      "source": [
        "Generate a Poisson distribution which describes the alerts which arrive at a\n",
        "Power Station during a typical evening. The power station receives 62 alerts over the course of 4 hours. The power station immediately shuts down if it receives 9 alerts in 15 minutes. What is the probability that this will happen?"
      ]
    },
    {
      "cell_type": "code",
      "metadata": {
        "id": "TIdzbvseoVvO",
        "colab_type": "code",
        "colab": {}
      },
      "source": [
        "def getPoissonPMF(x,mu):\n",
        "  return poisson.pmf(k=x,mu=mu)\n",
        "\n",
        "def getPoissonDist(mu):\n",
        "  return np.arange(poisson.ppf(0.01,mu),poisson.ppf(0.99,mu))\n",
        "\n",
        "def getErrorScale(events):\n",
        "  return 1/math.sqrt(events)"
      ],
      "execution_count": 2,
      "outputs": []
    },
    {
      "cell_type": "code",
      "metadata": {
        "id": "uHCmZpwp2HqT",
        "colab_type": "code",
        "colab": {
          "base_uri": "https://localhost:8080/",
          "height": 34
        },
        "outputId": "e04c07e7-f499-4f8d-eee9-c5fb792aca19"
      },
      "source": [
        "#62 alerts every 4 hours => 3.875 every 15 mins. mu= 3.875\n",
        "#And since we want P(9;2)\n",
        "print(\"The probability that the station will shut down is: {} +/- {}\".format(getPoissonPMF(9,3.875), getErrorScale(len(getPoissonDist(3.875)))))"
      ],
      "execution_count": 3,
      "outputs": [
        {
          "output_type": "stream",
          "text": [
            "The probability that the station will shut down is: 0.011266556820893085 +/- 0.3333333333333333\n"
          ],
          "name": "stdout"
        }
      ]
    },
    {
      "cell_type": "markdown",
      "metadata": {
        "id": "V4AAYCZXCWPA",
        "colab_type": "text"
      },
      "source": [
        "For this test, you need to know the critical z-value for your chosen Confidence Interval. Here are some common ones:\n",
        "\n",
        "\n",
        "*   90% CI -> Z= 1.65\n",
        "*   95% CI -> Z= 1.96\n",
        "*   99% CI -> Z= 2.58\n",
        "\n",
        "Now to calculate the average number of alerts based on a desired error rate and CI, we'll use the fact that:\n",
        "\n",
        "*   Z = (Xobs - mu) / (error/sqrt(N))\n",
        "\n"
      ]
    },
    {
      "cell_type": "code",
      "metadata": {
        "id": "Od8qiTzNEH0S",
        "colab_type": "code",
        "colab": {}
      },
      "source": [
        "def getXobs(criticalValue, mu, desiredError, N):\n",
        "  return criticalValue*(desiredError/math.sqrt(N)) + mu"
      ],
      "execution_count": 4,
      "outputs": []
    },
    {
      "cell_type": "code",
      "metadata": {
        "id": "Q34n7s28C9br",
        "colab_type": "code",
        "colab": {
          "base_uri": "https://localhost:8080/",
          "height": 34
        },
        "outputId": "d53f0b51-0695-4913-81e9-789c965528e4"
      },
      "source": [
        "criticalValue = 1.96\n",
        "desiredError = 0.33333\n",
        "mu = 3.875\n",
        "N = len(getPoissonDist(mu))\n",
        "\n",
        "getXobs(criticalValue,mu,desiredError,N)"
      ],
      "execution_count": 6,
      "outputs": [
        {
          "output_type": "execute_result",
          "data": {
            "text/plain": [
              "4.0927756"
            ]
          },
          "metadata": {
            "tags": []
          },
          "execution_count": 6
        }
      ]
    },
    {
      "cell_type": "markdown",
      "metadata": {
        "id": "CnhgJedsExKI",
        "colab_type": "text"
      },
      "source": [
        "We would need approximately 4 alerts every 15 minutes to shut down the plant, with a 95% CI"
      ]
    },
    {
      "cell_type": "markdown",
      "metadata": {
        "id": "5kmiqjVuFpeu",
        "colab_type": "text"
      },
      "source": [
        "#Covariance Matrix"
      ]
    },
    {
      "cell_type": "code",
      "metadata": {
        "id": "m-n__r10Fv5s",
        "colab_type": "code",
        "colab": {
          "base_uri": "https://localhost:8080/",
          "height": 258
        },
        "outputId": "6bebb948-2f0d-4589-b918-0cd2722871ed"
      },
      "source": [
        "#Cloned repo\n",
        "from google.colab import drive\n",
        "drive.mount(\"/content/gdrive\")\n",
        "%cd gdrive/My Drive/project_folder\n",
        "!git clone https://github.com/dylan-profiler/heatmaps.git"
      ],
      "execution_count": 8,
      "outputs": [
        {
          "output_type": "stream",
          "text": [
            "Go to this URL in a browser: https://accounts.google.com/o/oauth2/auth?client_id=947318989803-6bn6qk8qdgf4n4g3pfee6491hc0brc4i.apps.googleusercontent.com&redirect_uri=urn%3aietf%3awg%3aoauth%3a2.0%3aoob&response_type=code&scope=email%20https%3a%2f%2fwww.googleapis.com%2fauth%2fdocs.test%20https%3a%2f%2fwww.googleapis.com%2fauth%2fdrive%20https%3a%2f%2fwww.googleapis.com%2fauth%2fdrive.photos.readonly%20https%3a%2f%2fwww.googleapis.com%2fauth%2fpeopleapi.readonly\n",
            "\n",
            "Enter your authorization code:\n",
            "··········\n",
            "Mounted at /content/gdrive\n",
            "[Errno 2] No such file or directory: 'gdrive/My Drive/project_folder'\n",
            "/content\n",
            "Cloning into 'heatmaps'...\n",
            "remote: Enumerating objects: 27, done.\u001b[K\n",
            "remote: Counting objects: 100% (27/27), done.\u001b[K\n",
            "remote: Compressing objects: 100% (19/19), done.\u001b[K\n",
            "remote: Total 51 (delta 9), reused 22 (delta 6), pack-reused 24\u001b[K\n",
            "Unpacking objects: 100% (51/51), done.\n"
          ],
          "name": "stdout"
        }
      ]
    },
    {
      "cell_type": "code",
      "metadata": {
        "id": "a_epzbawGw9D",
        "colab_type": "code",
        "colab": {
          "base_uri": "https://localhost:8080/",
          "height": 255
        },
        "outputId": "dfa9929e-e8a2-4e48-8d23-4f58006938d4"
      },
      "source": [
        "#Got the information I thought was relevant to go on a Covariant Matrix (just integers)\n",
        "#I only took 7 elements to compare, but more could be added by indicating their column name below\n",
        "import pandas as pd\n",
        "data = pd.read_csv(\"/content/heatmaps/autos.clean.csv\")\n",
        "dataFrame = pd.DataFrame(data,columns=[\"normalized-losses\",\"wheel-base\",\"length\",\"width\",\"height\",\"curb-weight\",\"engine-size\"])\n",
        "print(dataFrame)"
      ],
      "execution_count": 9,
      "outputs": [
        {
          "output_type": "stream",
          "text": [
            "     normalized-losses  wheel-base  length  ...  height  curb-weight  engine-size\n",
            "0                  122        88.6   168.8  ...    48.8         2548          130\n",
            "1                  122        88.6   168.8  ...    48.8         2548          130\n",
            "2                  122        94.5   171.2  ...    52.4         2823          152\n",
            "3                  164        99.8   176.6  ...    54.3         2337          109\n",
            "4                  164        99.4   176.6  ...    54.3         2824          136\n",
            "..                 ...         ...     ...  ...     ...          ...          ...\n",
            "196                 95       109.1   188.8  ...    55.5         2952          141\n",
            "197                 95       109.1   188.8  ...    55.5         3049          141\n",
            "198                 95       109.1   188.8  ...    55.5         3012          173\n",
            "199                 95       109.1   188.8  ...    55.5         3217          145\n",
            "200                 95       109.1   188.8  ...    55.5         3062          141\n",
            "\n",
            "[201 rows x 7 columns]\n"
          ],
          "name": "stdout"
        }
      ]
    },
    {
      "cell_type": "code",
      "metadata": {
        "id": "5fpZFuesMROs",
        "colab_type": "code",
        "colab": {
          "base_uri": "https://localhost:8080/",
          "height": 187
        },
        "outputId": "5d5a2aba-3689-4b79-c38e-5d92f0c1d923"
      },
      "source": [
        "#And here is the Covariant matrix\n",
        "pandasCovMatrix = pd.DataFrame.cov(dataFrame)\n",
        "print(pandasCovMatrix)"
      ],
      "execution_count": 15,
      "outputs": [
        {
          "output_type": "stream",
          "text": [
            "                   normalized-losses   wheel-base  ...    curb-weight   engine-size\n",
            "normalized-losses          1023.7600   -10.998000  ...    1645.295000    149.365000\n",
            "wheel-base                  -10.9980    36.800791  ...    2454.308000    144.172627\n",
            "length                        7.6580    65.483503  ...    5613.551833    350.696624\n",
            "width                         5.8365    10.383567  ...     941.633333     63.686632\n",
            "height                      -29.2715     8.772150  ...     389.474333      7.596333\n",
            "curb-weight                1645.2950  2454.308000  ...  267595.903333  18248.283333\n",
            "engine-size                 149.3650   144.172627  ...   18248.283333   1726.139453\n",
            "\n",
            "[7 rows x 7 columns]\n"
          ],
          "name": "stdout"
        }
      ]
    },
    {
      "cell_type": "code",
      "metadata": {
        "id": "-g3CwAx_ND2L",
        "colab_type": "code",
        "colab": {
          "base_uri": "https://localhost:8080/",
          "height": 671
        },
        "outputId": "1422b42f-9cb2-4bb4-e98a-fa36966af194"
      },
      "source": [
        "#Here I display this covariant matrix\n",
        "plt.figure(figsize=(10,10))\n",
        "sn.heatmap(pandasCovMatrix, annot=True, fmt='g')\n",
        "plt.show()"
      ],
      "execution_count": 19,
      "outputs": [
        {
          "output_type": "display_data",
          "data": {
            "image/png": "[encoded data removed]",
            "text/plain": [
              "<Figure size 720x720 with 2 Axes>"
            ]
          },
          "metadata": {
            "tags": [],
            "needs_background": "light"
          }
        }
      ]
    },
    {
      "cell_type": "code",
      "metadata": {
        "id": "OgMizTO3O5uO",
        "colab_type": "code",
        "colab": {
          "base_uri": "https://localhost:8080/",
          "height": 153
        },
        "outputId": "c78c9495-3572-4ed5-94fd-31cea2fcdd92"
      },
      "source": [
        "#Looking at the elements on the top right and bottom left\n",
        "print(pandasCovMatrix.iat[0,6])\n",
        "print(pandasCovMatrix.iat[6,0])\n",
        "print(\"\")\n",
        "print(pandasCovMatrix.iat[0,5])\n",
        "print(pandasCovMatrix.iat[5,0])\n",
        "print(\"\")\n",
        "print(pandasCovMatrix.iat[0,4])\n",
        "print(pandasCovMatrix.iat[4,0])"
      ],
      "execution_count": 27,
      "outputs": [
        {
          "output_type": "stream",
          "text": [
            "149.36499999999998\n",
            "149.36499999999998\n",
            "\n",
            "1645.2950000000012\n",
            "1645.2950000000012\n",
            "\n",
            "-29.27149999999999\n",
            "-29.27149999999999\n"
          ],
          "name": "stdout"
        }
      ]
    },
    {
      "cell_type": "markdown",
      "metadata": {
        "id": "kKGM_tmPPkbx",
        "colab_type": "text"
      },
      "source": [
        "They are the same, meaning this matrix is symmetrical"
      ]
    },
    {
      "cell_type": "markdown",
      "metadata": {
        "id": "gWPJyrPSP2BQ",
        "colab_type": "text"
      },
      "source": [
        "#Errors on straight line fitting"
      ]
    },
    {
      "cell_type": "code",
      "metadata": {
        "id": "sDnq8mBmP8UV",
        "colab_type": "code",
        "colab": {}
      },
      "source": [
        "#These methods compute the errors for intercept and gradient respectively, and also the error matrix\n",
        "def errorIntercept(x1,x2,dy1,dy2):\n",
        "  return math.sqrt((dy2**2 + dy1**2)/(x2-x1)**2)\n",
        "\n",
        "def errorGradient(x1,x2,dy1,dy2):\n",
        "  return math.sqrt(((x2**2)*(dy1**2) + (x1**2)*(dy2**2))/(x2-x1)**2)\n",
        "\n",
        "def getErrorMatrix(x1,x2,dy1,dy2):\n",
        "  E = np.zeros(shape=(2,2))\n",
        "  constant = 1/((x2-x1)**2)\n",
        "\n",
        "  E[0,0]= constant*(dy2**2 + dy1**2)\n",
        "  E[0,1]= constant*(-(x2**2)*(dy1**2)-(x1**2)*(dy2**2))\n",
        "  E[1,0]= constant*(-(x2**2)*(dy1**2)-(x1**2)*(dy2**2))\n",
        "  E[1,1]= constant*((x2**2)*(dy1**2) + (x1**2)*(dy2**2))\n",
        "\n",
        "  print(E)"
      ],
      "execution_count": 31,
      "outputs": []
    },
    {
      "cell_type": "markdown",
      "metadata": {
        "id": "wq5rAdRyUJK0",
        "colab_type": "text"
      },
      "source": [
        "Let's take two arbitrary points:\n",
        "*   (200,400) +/- 2\n",
        "*   (400,700) +/- 40"
      ]
    },
    {
      "cell_type": "code",
      "metadata": {
        "id": "gCcQ2c9VVDoh",
        "colab_type": "code",
        "colab": {
          "base_uri": "https://localhost:8080/",
          "height": 85
        },
        "outputId": "a4150354-71da-494f-9676-168a39221d2c"
      },
      "source": [
        "x1=200\n",
        "dy1=2\n",
        "x2=400\n",
        "dy2=40\n",
        "\n",
        "print(errorGradient(x1,x2,dy1,dy2))\n",
        "print(errorIntercept(x1,x2,dy1,dy2))\n",
        "getErrorMatrix(x1,x2,dy1,dy2)"
      ],
      "execution_count": 32,
      "outputs": [
        {
          "output_type": "stream",
          "text": [
            "40.19950248448356\n",
            "0.20024984394500786\n",
            "[[ 4.010e-02 -1.616e+03]\n",
            " [-1.616e+03  1.616e+03]]\n"
          ],
          "name": "stdout"
        }
      ]
    },
    {
      "cell_type": "markdown",
      "metadata": {
        "id": "VjXj-y42WViF",
        "colab_type": "text"
      },
      "source": [
        "#Errors with weighted measurements"
      ]
    },
    {
      "cell_type": "code",
      "metadata": {
        "id": "3pYzbKhdWaf0",
        "colab_type": "code",
        "colab": {}
      },
      "source": [
        "#Computes the weighted Mean with its weighted error\n",
        "def computeWeightedMeanError(array):\n",
        "  x = []\n",
        "  errors = []\n",
        "  total = 0\n",
        "  weightedError = 0\n",
        "\n",
        "  for i in range(len(array)):\n",
        "    element = array[i]\n",
        "    x.append(element[0])\n",
        "    errors.append(element[1])\n",
        "\n",
        "  for j in range(len(errors)):\n",
        "    weightedError += 1/(errors[j]**2)\n",
        "\n",
        "  for a in range(len(x)):\n",
        "    total += x[a]/(errors[a]**2)\n",
        "\n",
        "  weightedMean = total/weightedError\n",
        "\n",
        "  print(\"{} +/- {}\".format(weightedMean,weightedError))\n",
        "  \n"
      ],
      "execution_count": 60,
      "outputs": []
    },
    {
      "cell_type": "code",
      "metadata": {
        "id": "tPWQkfBDYrYc",
        "colab_type": "code",
        "colab": {
          "base_uri": "https://localhost:8080/",
          "height": 34
        },
        "outputId": "9df00804-a5de-4f26-d870-99bb00991151"
      },
      "source": [
        "a = [[1,2] , [3,4] , [6,10] , [16,5]]\n",
        "computeWeightedMeanError(a)"
      ],
      "execution_count": 62,
      "outputs": [
        {
          "output_type": "stream",
          "text": [
            "3.1379310344827585 +/- 0.3625\n"
          ],
          "name": "stdout"
        }
      ]
    }
  ]
}