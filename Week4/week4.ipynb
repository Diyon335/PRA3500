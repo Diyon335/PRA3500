{
  "nbformat": 4,
  "nbformat_minor": 0,
  "metadata": {
    "colab": {
      "name": "week4",
      "provenance": [],
      "collapsed_sections": [],
      "authorship_tag": "ABX9TyO6GEaF5AguBgh+KR9G/of0",
      "include_colab_link": true
    },
    "kernelspec": {
      "name": "python3",
      "display_name": "Python 3"
    }
  },
  "cells": [
    {
      "cell_type": "markdown",
      "metadata": {
        "id": "view-in-github",
        "colab_type": "text"
      },
      "source": [
        "<a href=\"https://colab.research.google.com/github/Diyon335/PRA3500/blob/master/Week4/week4.ipynb\" target=\"_parent\"><img src=\"https://colab.research.google.com/assets/colab-badge.svg\" alt=\"Open In Colab\"/></a>"
      ]
    },
    {
      "cell_type": "code",
      "metadata": {
        "id": "Xh3n6Qf5y0xj",
        "colab_type": "code",
        "colab": {}
      },
      "source": [
        "import numpy as np\n",
        "import random\n",
        "import math\n",
        "import matplotlib.pyplot as plt\n"
      ],
      "execution_count": 0,
      "outputs": []
    },
    {
      "cell_type": "markdown",
      "metadata": {
        "id": "sS9Y1do_y5Bs",
        "colab_type": "text"
      },
      "source": [
        "#Setup"
      ]
    },
    {
      "cell_type": "markdown",
      "metadata": {
        "id": "wzDEBG-Ny9Dn",
        "colab_type": "text"
      },
      "source": [
        "We will create an x-y plane of 100 units in the positive x-y direction. \n",
        "The particle flies through this plane in the positive z-direction (only). Its x, y and z coords will be Monte Carlo data sets.\n",
        "\n",
        "\n"
      ]
    },
    {
      "cell_type": "code",
      "metadata": {
        "id": "Y3XaHJnC3Ctr",
        "colab_type": "code",
        "colab": {}
      },
      "source": [
        "#Generates a Monte Carlo data set\n",
        "def generateMonteCarlo(maxInt,coord_range):\n",
        "  x = []\n",
        "  for i in range(coord_range):\n",
        "    x.append(random.randint(1,maxInt))\n",
        "  return x\n",
        "#Computes the dot product\n",
        "def computeDotProduct(a , b):\n",
        "  aMag = np.linalg.norm(a)\n",
        "  bMag = np.linalg.norm(b)\n",
        "  dotSum = 0\n",
        "  for i in range(len(a)):\n",
        "    dotSum += a[i]*b[i]\n",
        "\n",
        "  return math.acos(dotSum/(aMag*bMag))\n",
        "\n",
        "#Computes the chi squared value for a straight line with given error. it has a 1% chance of returning null\n",
        "def computeChiSquared(x , y , error):\n",
        "  \n",
        "  gradients = []\n",
        "  intercepts = []\n",
        "  chi = 0\n",
        "  \n",
        "  for i in range(len(x)):\n",
        "    gradients.append(y[i]/x[i])\n",
        "    intercepts.append(y[i] - x[i]*gradients[i])\n",
        "  \n",
        "  gradient = np.average(gradients)\n",
        "  intercept = np.average(intercepts)\n",
        "\n",
        "  for j in range(len(x)):\n",
        "    chi += ((x[j] - gradient*y[j] - intercept)**2)/(error**2)\n",
        "  \n",
        "  if(random.random()<=0.01):\n",
        "    chi = 0\n",
        "\n",
        "  return chi"
      ],
      "execution_count": 0,
      "outputs": []
    },
    {
      "cell_type": "code",
      "metadata": {
        "id": "bzcvYdV4vhTu",
        "colab_type": "code",
        "colab": {}
      },
      "source": [
        "#The particle goes up to x, y and z = 100 in the +z direction. Coords are noted every 100 units\n",
        "z = generateMonteCarlo(100 , 100)\n",
        "x = generateMonteCarlo(100 , 100)\n",
        "y = generateMonteCarlo(100 , 100)\n",
        "x.sort()\n",
        "y.sort()\n",
        "z.sort()"
      ],
      "execution_count": 0,
      "outputs": []
    },
    {
      "cell_type": "code",
      "metadata": {
        "id": "mcF9Lgmw7m-K",
        "colab_type": "code",
        "outputId": "a21a09a7-4330-42b9-8ac7-f9c6327f14c0",
        "colab": {
          "base_uri": "https://localhost:8080/",
          "height": 68
        }
      },
      "source": [
        "zDetectionPoints = np.zeros(shape=(8))\n",
        "xDetectionPoints = np.zeros(shape=(8))\n",
        "yDetectionPoints = np.zeros(shape=(8))\n",
        "\n",
        "#Divide the coords into 8 detection points\n",
        "zStep = int((max(z) - min(z))/8)\n",
        "yStep = int((max(y) - min(y))/8)\n",
        "xStep = int((max(x) - min(x))/8)\n",
        "\n",
        "for i in range(len(zDetectionPoints)):\n",
        "  if (i==0):\n",
        "    zDetectionPoints[i]=zStep\n",
        "    yDetectionPoints[i]=yStep\n",
        "    xDetectionPoints[i]=xStep\n",
        "\n",
        "  zDetectionPoints[i] = zDetectionPoints[i-1] + zStep\n",
        "  yDetectionPoints[i] = yDetectionPoints[i-1] + yStep\n",
        "  xDetectionPoints[i] = xDetectionPoints[i-1] + xStep\n",
        "  \n",
        "  \n",
        "print(zDetectionPoints)\n",
        "print(yDetectionPoints)\n",
        "print(xDetectionPoints)"
      ],
      "execution_count": 113,
      "outputs": [
        {
          "output_type": "stream",
          "text": [
            "[12. 24. 36. 48. 60. 72. 84. 96.]\n",
            "[12. 24. 36. 48. 60. 72. 84. 96.]\n",
            "[12. 24. 36. 48. 60. 72. 84. 96.]\n"
          ],
          "name": "stdout"
        }
      ]
    },
    {
      "cell_type": "code",
      "metadata": {
        "id": "U007Pa9-DZRa",
        "colab_type": "code",
        "outputId": "dcd8dbd7-e822-468b-a83c-0458cc185841",
        "colab": {
          "base_uri": "https://localhost:8080/",
          "height": 34
        }
      },
      "source": [
        "#Our particle is moving in a straight line, with direction vector a = (12,12,12)\n",
        "#Let's find the angle it's moving with respect to the z-plane b = (0,0,1)\n",
        "a = [12,12,12]\n",
        "b = [0 , 0 , 1]\n",
        "\n",
        "angle = computeDotProduct(a,b)\n",
        "print(angle)"
      ],
      "execution_count": 114,
      "outputs": [
        {
          "output_type": "stream",
          "text": [
            "0.9553166181245093\n"
          ],
          "name": "stdout"
        }
      ]
    },
    {
      "cell_type": "markdown",
      "metadata": {
        "id": "_w0haNlEF0KU",
        "colab_type": "text"
      },
      "source": [
        "The particle seems to be moving in +xyz direction at an angle so it has a probability of being in a pixel of (y+1), (x+1) or (y+1) and (x+1). Let's only focus on the x-y plane and consider the probabilities for them, as this is the plane with pixels (the plane of the detection layers)"
      ]
    },
    {
      "cell_type": "code",
      "metadata": {
        "id": "aLTPVvOLRNQH",
        "colab_type": "code",
        "colab": {
          "base_uri": "https://localhost:8080/",
          "height": 68
        },
        "outputId": "aa4a340c-7b53-4e83-a6d1-da6eff151192"
      },
      "source": [
        "#Let the probability that the particle actually went through these other pixels = 0.10\n",
        "p_x = 0.10\n",
        "p_y = 0.10\n",
        "p_diagonal = p_x*p_y\n",
        "\n",
        "for i in range(len(zDetectionPoints)):\n",
        "  if (random.random() <= p_x):\n",
        "    xDetectionPoints[i]+=1\n",
        "  if (random.random() <= p_y):\n",
        "    yDetectionPoints[i]+=1\n",
        "  if (random.random() <= p_diagonal):\n",
        "    xDetectionPoints[i]+=1\n",
        "    yDetectionPoints[i]+=1\n",
        "\n",
        "print(zDetectionPoints)\n",
        "print(yDetectionPoints)\n",
        "print(xDetectionPoints)"
      ],
      "execution_count": 115,
      "outputs": [
        {
          "output_type": "stream",
          "text": [
            "[12. 24. 36. 48. 60. 72. 84. 96.]\n",
            "[12. 24. 37. 49. 60. 72. 84. 96.]\n",
            "[12. 24. 36. 48. 60. 72. 84. 96.]\n"
          ],
          "name": "stdout"
        }
      ]
    },
    {
      "cell_type": "markdown",
      "metadata": {
        "id": "wC_5AxN7qJ2C",
        "colab_type": "text"
      },
      "source": [
        "#The Chi Squared Test"
      ]
    },
    {
      "cell_type": "markdown",
      "metadata": {
        "id": "cjCNrpZ4i-28",
        "colab_type": "text"
      },
      "source": [
        "In the x-y plane, the particle's trajectory is approximately a straight line with a positive gradient. We will use this along with an arbitrary error value, sigma. This can be changed "
      ]
    },
    {
      "cell_type": "code",
      "metadata": {
        "id": "Hd2j7Qd0i0vg",
        "colab_type": "code",
        "colab": {
          "base_uri": "https://localhost:8080/",
          "height": 34
        },
        "outputId": "41750c0b-c6c3-4591-9ecc-837d2d335aa6"
      },
      "source": [
        "error = 1\n",
        "computeChiSquared(xDetectionPoints, yDetectionPoints, error)"
      ],
      "execution_count": 116,
      "outputs": [
        {
          "output_type": "execute_result",
          "data": {
            "text/plain": [
              "4.1360511308834464"
            ]
          },
          "metadata": {
            "tags": []
          },
          "execution_count": 116
        }
      ]
    },
    {
      "cell_type": "markdown",
      "metadata": {
        "id": "Fhg_wyDcqCqz",
        "colab_type": "text"
      },
      "source": [
        "Now let's simulate this test for many examples"
      ]
    },
    {
      "cell_type": "code",
      "metadata": {
        "id": "HkE7Gs3PqCJN",
        "colab_type": "code",
        "colab": {}
      },
      "source": [
        "tries = 100\n",
        "\n",
        "try_array = np.arange(1,tries+1,1)"
      ],
      "execution_count": 0,
      "outputs": []
    },
    {
      "cell_type": "code",
      "metadata": {
        "id": "F_B6tZuerN2y",
        "colab_type": "code",
        "colab": {}
      },
      "source": [
        "#This method just repeats everything that's been done so far to obtain the chi value in task 1\n",
        "def plotChiSquared(try_array, adjacent_probability, line_error):\n",
        "\n",
        "  steps = len(try_array)\n",
        "  chi_values = []\n",
        "\n",
        "  for i in range(steps):\n",
        "    z = generateMonteCarlo(100 , 100)\n",
        "    x = generateMonteCarlo(100 , 100)\n",
        "    y = generateMonteCarlo(100 , 100)\n",
        "    x.sort()\n",
        "    y.sort()\n",
        "    z.sort()\n",
        "\n",
        "    zDetectionPoints = np.zeros(shape=(8))\n",
        "    xDetectionPoints = np.zeros(shape=(8))\n",
        "    yDetectionPoints = np.zeros(shape=(8))\n",
        "\n",
        "    #Divide the coords into 8 detection points\n",
        "    zStep = int((max(z) - min(z))/8)\n",
        "    yStep = int((max(y) - min(y))/8)\n",
        "    xStep = int((max(x) - min(x))/8)\n",
        "\n",
        "    for i in range(len(zDetectionPoints)):\n",
        "      if (i==0):\n",
        "        zDetectionPoints[i]=zStep\n",
        "        yDetectionPoints[i]=yStep\n",
        "        xDetectionPoints[i]=xStep\n",
        "\n",
        "      zDetectionPoints[i] = zDetectionPoints[i-1] + zStep\n",
        "      yDetectionPoints[i] = yDetectionPoints[i-1] + yStep\n",
        "      xDetectionPoints[i] = xDetectionPoints[i-1] + xStep\n",
        "\n",
        "    p_x = adjacent_probability\n",
        "    p_y = adjacent_probability\n",
        "    p_diagonal = p_x*p_y\n",
        "\n",
        "    for i in range(len(zDetectionPoints)):\n",
        "      if (random.random() <= p_x):\n",
        "        xDetectionPoints[i]+=1\n",
        "      if (random.random() <= p_y):\n",
        "        yDetectionPoints[i]+=1\n",
        "      if (random.random() <= p_diagonal):\n",
        "        xDetectionPoints[i]+=1\n",
        "        yDetectionPoints[i]+=1\n",
        "\n",
        "    chi_values.append(computeChiSquared(xDetectionPoints, yDetectionPoints, line_error))\n",
        "\n",
        "  plt.plot(try_array,chi_values)\n",
        "  plt.xlabel(\"Tries\")\n",
        "  plt.ylabel(\"Chi Squared Values\")\n",
        "  plt.title(\"Chi Squared for different examples\")\n",
        "  plt.show()"
      ],
      "execution_count": 0,
      "outputs": []
    },
    {
      "cell_type": "code",
      "metadata": {
        "id": "xPwB7obMtqQC",
        "colab_type": "code",
        "colab": {
          "base_uri": "https://localhost:8080/",
          "height": 295
        },
        "outputId": "385bec69-1852-478f-86b9-c5901b8f9c17"
      },
      "source": [
        "plotChiSquared(try_array, 0.10 , 1.5)"
      ],
      "execution_count": 119,
      "outputs": [
        {
          "output_type": "display_data",
          "data": {
            "image/png": "[encoded data removed]",
            "text/plain": [
              "<Figure size 432x288 with 1 Axes>"
            ]
          },
          "metadata": {
            "tags": [],
            "needs_background": "light"
          }
        }
      ]
    },
    {
      "cell_type": "markdown",
      "metadata": {
        "id": "CMpltgZd-oy2",
        "colab_type": "text"
      },
      "source": [
        "#Did our tracks come from the same place?"
      ]
    },
    {
      "cell_type": "markdown",
      "metadata": {
        "id": "unJS1FMzE5-f",
        "colab_type": "text"
      },
      "source": [
        "This task was combined with the last task to find the ChiSquared/N as well"
      ]
    },
    {
      "cell_type": "code",
      "metadata": {
        "id": "Sr7DAg58-se7",
        "colab_type": "code",
        "colab": {}
      },
      "source": [
        "particles = 3\n",
        "tries = 1\n",
        "try_array = np.ones(shape=(particles))\n",
        "\n",
        "#Changed the function to now plot Chi Squareds for different particles\n",
        "def plotChiSquareds(particles, try_array, adjacent_probability, line_error, tries, checkChiSquared=False):\n",
        "\n",
        "  steps = tries\n",
        "  chi_values = []\n",
        "  colours = ['r','b','g','c','y']\n",
        "  df = 8 - 1\n",
        "\n",
        "  for p in range(particles):\n",
        "    for i in range(steps):\n",
        "\n",
        "      z = generateMonteCarlo(100 , 100)\n",
        "      x = generateMonteCarlo(100 , 100)\n",
        "      y = generateMonteCarlo(100 , 100)\n",
        "      x.sort()\n",
        "      y.sort()\n",
        "      z.sort()\n",
        "\n",
        "      zDetectionPoints = np.zeros(shape=(8))\n",
        "      xDetectionPoints = np.zeros(shape=(8))\n",
        "      yDetectionPoints = np.zeros(shape=(8))\n",
        "\n",
        "      #Divide the coords into 8 detection points\n",
        "      zStep = int((max(z) - min(z))/8)\n",
        "      yStep = int((max(y) - min(y))/8)\n",
        "      xStep = int((max(x) - min(x))/8)\n",
        "\n",
        "      for i in range(len(zDetectionPoints)):\n",
        "        if (i==0):\n",
        "          zDetectionPoints[i]=zStep\n",
        "          yDetectionPoints[i]=yStep\n",
        "          xDetectionPoints[i]=xStep\n",
        "\n",
        "        zDetectionPoints[i] = zDetectionPoints[i-1] + zStep\n",
        "        yDetectionPoints[i] = yDetectionPoints[i-1] + yStep\n",
        "        xDetectionPoints[i] = xDetectionPoints[i-1] + xStep\n",
        "\n",
        "      p_x = adjacent_probability\n",
        "      p_y = adjacent_probability\n",
        "      p_diagonal = p_x*p_y\n",
        "\n",
        "      for i in range(len(zDetectionPoints)):\n",
        "        if (random.random() <= p_x):\n",
        "          xDetectionPoints[i]+=1\n",
        "        if (random.random() <= p_y):\n",
        "          yDetectionPoints[i]+=1\n",
        "        if (random.random() <= p_diagonal):\n",
        "          xDetectionPoints[i]+=1\n",
        "          yDetectionPoints[i]+=1\n",
        "\n",
        "      chi_values.append(computeChiSquared(xDetectionPoints, yDetectionPoints, line_error) / df)\n",
        "\n",
        "    plt.plot(try_array[p], chi_values[p], marker='o', markersize=3, color= colours[p])\n",
        "    \n",
        "  if(checkChiSquared):\n",
        "    new_chi = computeAdditionalChi(xDetectionPoints,yDetectionPoints,line_error) / df\n",
        "    plt.plot(1, new_chi, marker='x', markersize=3, color= 'k')\n",
        "    print(new_chi)\n",
        "  \n",
        "  print(chi_values)\n",
        "\n",
        "  \n",
        "  plt.xlabel(\"Tries\")\n",
        "  plt.ylabel(\"ChiSquared/N Values\")\n",
        "  if(checkChiSquared):\n",
        "    plt.title(\"ChiSquared/N for {} particles - To Check\".format(particles+1))\n",
        "  else:\n",
        "    plt.title(\"ChiSquared/N for {} particles\".format(particles))\n",
        "  plt.show()"
      ],
      "execution_count": 0,
      "outputs": []
    },
    {
      "cell_type": "code",
      "metadata": {
        "id": "UuzEB2yUSUyq",
        "colab_type": "code",
        "colab": {}
      },
      "source": [
        "def computeAdditionalChi(x , y , error, setIntercept=10):\n",
        "  \n",
        "  gradients = []\n",
        "  chi = 0\n",
        "  \n",
        "  for i in range(len(x)):\n",
        "    gradients.append(y[i]/x[i])\n",
        "  \n",
        "  gradient = np.average(gradients)\n",
        "  intercept = setIntercept\n",
        "\n",
        "  for j in range(len(x)):\n",
        "    chi += ((x[j] - gradient*y[j] - intercept)**2)/(error**2)\n",
        "  \n",
        "  if(random.random()<=0.01):\n",
        "    chi = 0\n",
        "\n",
        "  return chi"
      ],
      "execution_count": 0,
      "outputs": []
    },
    {
      "cell_type": "code",
      "metadata": {
        "id": "7vH3sDLlHhn3",
        "colab_type": "code",
        "colab": {
          "base_uri": "https://localhost:8080/",
          "height": 312
        },
        "outputId": "f81e6883-9743-4c6a-eb37-53381982aef9"
      },
      "source": [
        "plotChiSquareds(particles,try_array,adjacent_probability=0.10,line_error=1,tries=1)"
      ],
      "execution_count": 160,
      "outputs": [
        {
          "output_type": "stream",
          "text": [
            "[0.2853623889918357, 0.0, 0.19745597718253463]\n"
          ],
          "name": "stdout"
        },
        {
          "output_type": "display_data",
          "data": {
            "image/png": "[encoded data removed]",
            "text/plain": [
              "<Figure size 432x288 with 1 Axes>"
            ]
          },
          "metadata": {
            "tags": [],
            "needs_background": "light"
          }
        }
      ]
    },
    {
      "cell_type": "code",
      "metadata": {
        "id": "HMkYDK7ET66l",
        "colab_type": "code",
        "colab": {
          "base_uri": "https://localhost:8080/",
          "height": 329
        },
        "outputId": "d27d7d04-f625-45cd-9613-f21d651a9d86"
      },
      "source": [
        "plotChiSquareds(particles,try_array,adjacent_probability=0.10,line_error=1,tries=1,checkChiSquared=True)"
      ],
      "execution_count": 169,
      "outputs": [
        {
          "output_type": "stream",
          "text": [
            "110.02316930598364\n",
            "[0.187226890756303, 0.18613445948041107, 0.1851722514917326]\n"
          ],
          "name": "stdout"
        },
        {
          "output_type": "display_data",
          "data": {
            "image/png": "[encoded data removed]",
            "text/plain": [
              "<Figure size 432x288 with 1 Axes>"
            ]
          },
          "metadata": {
            "tags": [],
            "needs_background": "light"
          }
        }
      ]
    }
  ]
}