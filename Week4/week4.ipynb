{
  "nbformat": 4,
  "nbformat_minor": 0,
  "metadata": {
    "colab": {
      "name": "week4",
      "provenance": [],
      "collapsed_sections": [],
      "authorship_tag": "ABX9TyPnial6kRpUZuHzKVBfhB3c",
      "include_colab_link": true
    },
    "kernelspec": {
      "name": "python3",
      "display_name": "Python 3"
    }
  },
  "cells": [
    {
      "cell_type": "markdown",
      "metadata": {
        "id": "view-in-github",
        "colab_type": "text"
      },
      "source": [
        "<a href=\"https://colab.research.google.com/github/Diyon335/PRA3500/blob/master/Week4/week4.ipynb\" target=\"_parent\"><img src=\"https://colab.research.google.com/assets/colab-badge.svg\" alt=\"Open In Colab\"/></a>"
      ]
    },
    {
      "cell_type": "code",
      "metadata": {
        "id": "Xh3n6Qf5y0xj",
        "colab_type": "code",
        "colab": {}
      },
      "source": [
        "import numpy as np\n",
        "import random\n",
        "import math\n",
        "import matplotlib.pyplot as plt\n"
      ],
      "execution_count": 0,
      "outputs": []
    },
    {
      "cell_type": "markdown",
      "metadata": {
        "id": "sS9Y1do_y5Bs",
        "colab_type": "text"
      },
      "source": [
        "#Setup"
      ]
    },
    {
      "cell_type": "markdown",
      "metadata": {
        "id": "wzDEBG-Ny9Dn",
        "colab_type": "text"
      },
      "source": [
        "We will create an x-y plane of 100 units in the positive x-y direction. \n",
        "The particle flies through this plane in the positive z-direction (only). Its x, y and z coords will be Monte Carlo data sets.\n",
        "\n",
        "\n"
      ]
    },
    {
      "cell_type": "code",
      "metadata": {
        "id": "Y3XaHJnC3Ctr",
        "colab_type": "code",
        "colab": {}
      },
      "source": [
        "#Generates a Monte Carlo data set\n",
        "def generateMonteCarlo(maxInt,coord_range):\n",
        "  x = []\n",
        "  for i in range(coord_range):\n",
        "    x.append(random.randint(1,maxInt))\n",
        "  return x\n",
        "#Computes the dot product\n",
        "def computeDotProduct(a , b):\n",
        "  aMag = np.linalg.norm(a)\n",
        "  bMag = np.linalg.norm(b)\n",
        "  dotSum = 0\n",
        "  for i in range(len(a)):\n",
        "    dotSum += a[i]*b[i]\n",
        "\n",
        "  return math.acos(dotSum/(aMag*bMag))\n",
        "\n",
        "#Computes the chi squared value for a straight line with given error. it has a 1% chance of returning null\n",
        "def computeChiSquared(x , y , error):\n",
        "  \n",
        "  gradients = []\n",
        "  intercepts = []\n",
        "  chi = 0\n",
        "  \n",
        "  for i in range(len(x)):\n",
        "    gradients.append(y[i]/x[i])\n",
        "    intercepts.append(y[i] - x[i]*gradients[i])\n",
        "  \n",
        "  gradient = np.average(gradients)\n",
        "  intercept = np.average(intercepts)\n",
        "  print(\"Fit Function: y = {}x + {}\".format(gradient,intercept))\n",
        "\n",
        "  for j in range(len(x)):\n",
        "    chi += ((x[j] - gradient*y[j] - intercept)**2)/(error**2)\n",
        "  \n",
        "  if(random.random()<=0.01):\n",
        "    chi = 0\n",
        "\n",
        "  return chi"
      ],
      "execution_count": 0,
      "outputs": []
    },
    {
      "cell_type": "code",
      "metadata": {
        "id": "bzcvYdV4vhTu",
        "colab_type": "code",
        "colab": {}
      },
      "source": [
        "#The particle goes up to x, y and z = 100 in the +z direction. Coords are noted every 100 units\n",
        "z = generateMonteCarlo(100 , 100)\n",
        "x = generateMonteCarlo(100 , 100)\n",
        "y = generateMonteCarlo(100 , 100)\n",
        "x.sort()\n",
        "y.sort()\n",
        "z.sort()"
      ],
      "execution_count": 0,
      "outputs": []
    },
    {
      "cell_type": "code",
      "metadata": {
        "id": "mcF9Lgmw7m-K",
        "colab_type": "code",
        "outputId": "46107c93-7dca-4c8d-c0a4-25e2ac11a99a",
        "colab": {
          "base_uri": "https://localhost:8080/",
          "height": 68
        }
      },
      "source": [
        "zDetectionPoints = np.zeros(shape=(8))\n",
        "xDetectionPoints = np.zeros(shape=(8))\n",
        "yDetectionPoints = np.zeros(shape=(8))\n",
        "\n",
        "#Divide the coords into 8 detection points\n",
        "zStep = int((max(z) - min(z))/8)\n",
        "yStep = int((max(y) - min(y))/8)\n",
        "xStep = int((max(x) - min(x))/8)\n",
        "\n",
        "for i in range(len(zDetectionPoints)):\n",
        "  if (i==0):\n",
        "    zDetectionPoints[i]=zStep\n",
        "    yDetectionPoints[i]=yStep\n",
        "    xDetectionPoints[i]=xStep\n",
        "\n",
        "  zDetectionPoints[i] = zDetectionPoints[i-1] + zStep\n",
        "  yDetectionPoints[i] = yDetectionPoints[i-1] + yStep\n",
        "  xDetectionPoints[i] = xDetectionPoints[i-1] + xStep\n",
        "  \n",
        "  \n",
        "print(zDetectionPoints)\n",
        "print(yDetectionPoints)\n",
        "print(xDetectionPoints)"
      ],
      "execution_count": 8,
      "outputs": [
        {
          "output_type": "stream",
          "text": [
            "[12. 24. 36. 48. 60. 72. 84. 96.]\n",
            "[12. 24. 36. 48. 60. 72. 84. 96.]\n",
            "[12. 24. 36. 48. 60. 72. 84. 96.]\n"
          ],
          "name": "stdout"
        }
      ]
    },
    {
      "cell_type": "code",
      "metadata": {
        "id": "U007Pa9-DZRa",
        "colab_type": "code",
        "outputId": "c262df42-ebd2-4164-dcfe-5a3f3d57f425",
        "colab": {
          "base_uri": "https://localhost:8080/",
          "height": 34
        }
      },
      "source": [
        "#Our particle is moving in a straight line, with direction vector a = (12,12,12)\n",
        "#Let's find the angle it's moving with respect to the z-plane b = (0,0,1)\n",
        "a = [12,12,12]\n",
        "b = [0 , 0 , 1]\n",
        "\n",
        "angle = computeDotProduct(a,b)\n",
        "print(angle)"
      ],
      "execution_count": 9,
      "outputs": [
        {
          "output_type": "stream",
          "text": [
            "0.9553166181245093\n"
          ],
          "name": "stdout"
        }
      ]
    },
    {
      "cell_type": "markdown",
      "metadata": {
        "id": "_w0haNlEF0KU",
        "colab_type": "text"
      },
      "source": [
        "The particle seems to be moving in +xyz direction at an angle so it has a probability of being in a pixel of (y+1), (x+1) or (y+1) and (x+1). Let's only focus on the x-y plane and consider the probabilities for them, as this is the plane with pixels (the plane of the detection layers)"
      ]
    },
    {
      "cell_type": "code",
      "metadata": {
        "id": "aLTPVvOLRNQH",
        "colab_type": "code",
        "colab": {
          "base_uri": "https://localhost:8080/",
          "height": 68
        },
        "outputId": "228f3bf1-b5ce-43a7-b5f6-6e224d9158c7"
      },
      "source": [
        "#Let the probability that the particle actually went through these other pixels = 0.10\n",
        "p_x = 0.10\n",
        "p_y = 0.10\n",
        "p_diagonal = p_x*p_y\n",
        "\n",
        "for i in range(len(zDetectionPoints)):\n",
        "  if (random.random() <= p_x):\n",
        "    xDetectionPoints[i]+=1\n",
        "  if (random.random() <= p_y):\n",
        "    yDetectionPoints[i]+=1\n",
        "  if (random.random() <= p_diagonal):\n",
        "    xDetectionPoints[i]+=1\n",
        "    yDetectionPoints[i]+=1\n",
        "\n",
        "print(zDetectionPoints)\n",
        "print(yDetectionPoints)\n",
        "print(xDetectionPoints)"
      ],
      "execution_count": 10,
      "outputs": [
        {
          "output_type": "stream",
          "text": [
            "[12. 24. 36. 48. 60. 72. 84. 96.]\n",
            "[12. 24. 36. 48. 60. 72. 84. 97.]\n",
            "[12. 24. 37. 48. 61. 72. 84. 96.]\n"
          ],
          "name": "stdout"
        }
      ]
    },
    {
      "cell_type": "markdown",
      "metadata": {
        "id": "wC_5AxN7qJ2C",
        "colab_type": "text"
      },
      "source": [
        "#The Chi Squared Test"
      ]
    },
    {
      "cell_type": "markdown",
      "metadata": {
        "id": "cjCNrpZ4i-28",
        "colab_type": "text"
      },
      "source": [
        "In the x-y plane, the particle's trajectory is approximately a straight line with a positive gradient. We will use this along with an arbitrary error value, sigma. This can be changed "
      ]
    },
    {
      "cell_type": "code",
      "metadata": {
        "id": "Hd2j7Qd0i0vg",
        "colab_type": "code",
        "colab": {
          "base_uri": "https://localhost:8080/",
          "height": 51
        },
        "outputId": "f7ccb14d-98bc-40e1-abb5-0bb3eea526f3"
      },
      "source": [
        "error = 1\n",
        "computeChiSquared(xDetectionPoints, yDetectionPoints, error)"
      ],
      "execution_count": 11,
      "outputs": [
        {
          "output_type": "stream",
          "text": [
            "Fit Function: y = 0.9958745246270861x + 0.0\n"
          ],
          "name": "stdout"
        },
        {
          "output_type": "execute_result",
          "data": {
            "text/plain": [
              "3.4950000360501132"
            ]
          },
          "metadata": {
            "tags": []
          },
          "execution_count": 11
        }
      ]
    },
    {
      "cell_type": "markdown",
      "metadata": {
        "id": "Fhg_wyDcqCqz",
        "colab_type": "text"
      },
      "source": [
        "Now let's simulate this test for many examples"
      ]
    },
    {
      "cell_type": "code",
      "metadata": {
        "id": "HkE7Gs3PqCJN",
        "colab_type": "code",
        "colab": {}
      },
      "source": [
        "tries = 100\n",
        "\n",
        "try_array = np.arange(1,tries+1,1)"
      ],
      "execution_count": 0,
      "outputs": []
    },
    {
      "cell_type": "code",
      "metadata": {
        "id": "F_B6tZuerN2y",
        "colab_type": "code",
        "colab": {}
      },
      "source": [
        "#This method just repeats everything that's been done so far to obtain the chi value in task 1\n",
        "def plotChiSquared(try_array, adjacent_probability, line_error):\n",
        "\n",
        "  steps = len(try_array)\n",
        "  chi_values = []\n",
        "\n",
        "  for i in range(steps):\n",
        "    z = generateMonteCarlo(100 , 100)\n",
        "    x = generateMonteCarlo(100 , 100)\n",
        "    y = generateMonteCarlo(100 , 100)\n",
        "    x.sort()\n",
        "    y.sort()\n",
        "    z.sort()\n",
        "\n",
        "    zDetectionPoints = np.zeros(shape=(8))\n",
        "    xDetectionPoints = np.zeros(shape=(8))\n",
        "    yDetectionPoints = np.zeros(shape=(8))\n",
        "\n",
        "    #Divide the coords into 8 detection points\n",
        "    zStep = int((max(z) - min(z))/8)\n",
        "    yStep = int((max(y) - min(y))/8)\n",
        "    xStep = int((max(x) - min(x))/8)\n",
        "\n",
        "    for i in range(len(zDetectionPoints)):\n",
        "      if (i==0):\n",
        "        zDetectionPoints[i]=zStep\n",
        "        yDetectionPoints[i]=yStep\n",
        "        xDetectionPoints[i]=xStep\n",
        "\n",
        "      zDetectionPoints[i] = zDetectionPoints[i-1] + zStep\n",
        "      yDetectionPoints[i] = yDetectionPoints[i-1] + yStep\n",
        "      xDetectionPoints[i] = xDetectionPoints[i-1] + xStep\n",
        "\n",
        "    p_x = adjacent_probability\n",
        "    p_y = adjacent_probability\n",
        "    p_diagonal = p_x*p_y\n",
        "\n",
        "    for i in range(len(zDetectionPoints)):\n",
        "      if (random.random() <= p_x):\n",
        "        xDetectionPoints[i]+=1\n",
        "      if (random.random() <= p_y):\n",
        "        yDetectionPoints[i]+=1\n",
        "      if (random.random() <= p_diagonal):\n",
        "        xDetectionPoints[i]+=1\n",
        "        yDetectionPoints[i]+=1\n",
        "\n",
        "    chi_values.append(computeChiSquared(xDetectionPoints, yDetectionPoints, line_error))\n",
        "\n",
        "  plt.plot(try_array,chi_values)\n",
        "  plt.xlabel(\"Tries\")\n",
        "  plt.ylabel(\"Chi Squared Values\")\n",
        "  plt.title(\"Chi Squared for different examples\")\n",
        "  plt.show()"
      ],
      "execution_count": 0,
      "outputs": []
    },
    {
      "cell_type": "code",
      "metadata": {
        "id": "xPwB7obMtqQC",
        "colab_type": "code",
        "colab": {
          "base_uri": "https://localhost:8080/",
          "height": 1000
        },
        "outputId": "5bb9afe4-e494-416b-dc9f-ce66fdef9f16"
      },
      "source": [
        "plotChiSquared(try_array, 0.10 , 1.5)"
      ],
      "execution_count": 14,
      "outputs": [
        {
          "output_type": "stream",
          "text": [
            "Fit Function: y = 0.9966216216216216x + 0.0\n",
            "Fit Function: y = 1.0026041666666665x + 0.0\n",
            "Fit Function: y = 1.000199435444281x + 0.0\n",
            "Fit Function: y = 1.0055555555555555x + 0.0\n",
            "Fit Function: y = 0.9966216216216216x + 0.0\n",
            "Fit Function: y = 1.0x + 0.0\n",
            "Fit Function: y = 1.00349600456621x + 0.0\n",
            "Fit Function: y = 1.0052083333333335x + 0.0\n",
            "Fit Function: y = 1.0x + 0.0\n",
            "Fit Function: y = 1.002183562428408x + 0.0\n",
            "Fit Function: y = 0.9977552000529941x + 0.0\n",
            "Fit Function: y = 1.0014880952380953x + 0.0\n",
            "Fit Function: y = 1.0x + 0.0\n",
            "Fit Function: y = 1.0052083333333335x + 0.0\n",
            "Fit Function: y = 1.0x + 0.0\n",
            "Fit Function: y = 0.9903846153846154x + 0.0\n",
            "Fit Function: y = 0.9932876712328766x + 0.0\n",
            "Fit Function: y = 1.0925802139037433x + 4.440892098500626e-16\n",
            "Fit Function: y = 1.001829954954955x + 0.0\n",
            "Fit Function: y = 0.9166666666666666x + 0.0\n",
            "Fit Function: y = 1.0x + 0.0\n",
            "Fit Function: y = 1.0x + 0.0\n",
            "Fit Function: y = 0.9168093607305936x + 0.0\n",
            "Fit Function: y = 0.9987113402061856x + 0.0\n",
            "Fit Function: y = 0.9982876712328768x + 0.0\n",
            "Fit Function: y = 1.0x + 0.0\n",
            "Fit Function: y = 1.0780132788559755x + 8.881784197001252e-16\n",
            "Fit Function: y = 1.0x + 0.0\n",
            "Fit Function: y = 0.9953997992639679x + 0.0\n",
            "Fit Function: y = 0.9982876712328768x + 0.0\n",
            "Fit Function: y = 1.002183562428408x + 0.0\n",
            "Fit Function: y = 1.0052083333333335x + 0.0\n",
            "Fit Function: y = 1.00390625x + 0.0\n",
            "Fit Function: y = 1.0052083333333335x + 0.0\n",
            "Fit Function: y = 1.0017361111111112x + 0.0\n",
            "Fit Function: y = 1.0052083333333335x + 0.0\n",
            "Fit Function: y = 0.9901510333863275x + 0.0\n",
            "Fit Function: y = 1.0013020833333335x + 0.0\n",
            "Fit Function: y = 1.0x + 0.0\n",
            "Fit Function: y = 1.0079030558482613x + 0.0\n",
            "Fit Function: y = 1.0x + 0.0\n",
            "Fit Function: y = 1.0x + 0.0\n",
            "Fit Function: y = 1.0031591530054644x + 0.0\n",
            "Fit Function: y = 1.0011335784313724x + 0.0\n",
            "Fit Function: y = 0.9924679487179487x + 0.0\n",
            "Fit Function: y = 1.0017361111111112x + 0.0\n",
            "Fit Function: y = 0.9987113402061856x + 0.0\n",
            "Fit Function: y = 1.0x + 0.0\n",
            "Fit Function: y = 1.0x + 0.0\n",
            "Fit Function: y = 0.9987113402061856x + 0.0\n",
            "Fit Function: y = 0.9903846153846154x + 0.0\n",
            "Fit Function: y = 0.9970016339869281x + 0.0\n",
            "Fit Function: y = 1.0021939212328768x + 0.0\n",
            "Fit Function: y = 1.0946022727272728x + 0.0\n",
            "Fit Function: y = 0.9974489795918368x + 0.0\n",
            "Fit Function: y = 1.0106161021109474x + 0.0\n",
            "Fit Function: y = 0.9966216216216216x + 0.0\n",
            "Fit Function: y = 0.9137405848471423x + 0.0\n",
            "Fit Function: y = 1.0031591530054644x + 0.0\n",
            "Fit Function: y = 0.926046981292517x + 0.0\n",
            "Fit Function: y = 0.9924489795918368x + 0.0\n",
            "Fit Function: y = 1.0x + 0.0\n",
            "Fit Function: y = 0.9855356487709429x + 0.0\n",
            "Fit Function: y = 1.0x + 0.0\n",
            "Fit Function: y = 0.9985294117647059x + 0.0\n",
            "Fit Function: y = 1.0x + 0.0\n",
            "Fit Function: y = 1.005x + 0.0\n",
            "Fit Function: y = 0.9906501382604325x + 0.0\n",
            "Fit Function: y = 1.0033854166666667x + 0.0\n",
            "Fit Function: y = 1.0055555555555555x + 0.0\n",
            "Fit Function: y = 0.9195365646258503x + 0.0\n",
            "Fit Function: y = 1.0946969696969697x + 8.881784197001252e-16\n",
            "Fit Function: y = 0.9937113402061856x + 0.0\n",
            "Fit Function: y = 1.001829954954955x + 0.0\n",
            "Fit Function: y = 0.9987113402061856x + 0.0\n",
            "Fit Function: y = 0.9166666666666666x + 0.0\n",
            "Fit Function: y = 1.0052083333333335x + 0.0\n",
            "Fit Function: y = 0.9921207264957266x + 0.0\n",
            "Fit Function: y = 1.0013020833333335x + 0.0\n",
            "Fit Function: y = 0.9985294117647059x + 0.0\n",
            "Fit Function: y = 0.9966216216216216x + 0.0\n",
            "Fit Function: y = 1.0x + 0.0\n",
            "Fit Function: y = 1.0x + 0.0\n",
            "Fit Function: y = 0.9974489795918368x + 0.0\n",
            "Fit Function: y = 1.0052083333333335x + 0.0\n",
            "Fit Function: y = 1.0008164659306344x + 0.0\n",
            "Fit Function: y = 1.0104166666666665x + 0.0\n",
            "Fit Function: y = 1.015625x + 0.0\n",
            "Fit Function: y = 0.9953329618278072x + 0.0\n",
            "Fit Function: y = 0.9231311274509804x + 0.0\n",
            "Fit Function: y = 1.0101686507936507x + 0.0\n",
            "Fit Function: y = 1.0874228712464005x + 0.0\n",
            "Fit Function: y = 0.9966216216216216x + 0.0\n",
            "Fit Function: y = 0.994775766470972x + 0.0\n",
            "Fit Function: y = 1.0030381944444444x + 0.0\n",
            "Fit Function: y = 1.0x + 0.0\n",
            "Fit Function: y = 1.0035660660660661x + 0.0\n",
            "Fit Function: y = 1.01171875x + 0.0\n",
            "Fit Function: y = 1.0125x + 0.0\n",
            "Fit Function: y = 0.9987113402061856x + 0.0\n"
          ],
          "name": "stdout"
        },
        {
          "output_type": "display_data",
          "data": {
            "image/png": "[encoded data removed]",
            "text/plain": [
              "<Figure size 432x288 with 1 Axes>"
            ]
          },
          "metadata": {
            "tags": [],
            "needs_background": "light"
          }
        }
      ]
    },
    {
      "cell_type": "markdown",
      "metadata": {
        "id": "CMpltgZd-oy2",
        "colab_type": "text"
      },
      "source": [
        "#Did our tracks come from the same place?"
      ]
    },
    {
      "cell_type": "markdown",
      "metadata": {
        "id": "unJS1FMzE5-f",
        "colab_type": "text"
      },
      "source": [
        "This task was combined with the last task to find the ChiSquared/N as well"
      ]
    },
    {
      "cell_type": "code",
      "metadata": {
        "id": "Sr7DAg58-se7",
        "colab_type": "code",
        "colab": {}
      },
      "source": [
        "particles = 3\n",
        "tries = 1\n",
        "try_array = np.ones(shape=(particles))\n",
        "\n",
        "#Changed the function to now plot Chi Squareds for different particles\n",
        "def plotChiSquareds(particles, try_array, adjacent_probability, line_error, tries, checkChiSquared=False):\n",
        "\n",
        "  steps = tries\n",
        "  chi_values = []\n",
        "  colours = ['r','b','g','c','y']\n",
        "  df = 8 - 1\n",
        "\n",
        "  for p in range(particles):\n",
        "    for i in range(steps):\n",
        "\n",
        "      z = generateMonteCarlo(100 , 100)\n",
        "      x = generateMonteCarlo(100 , 100)\n",
        "      y = generateMonteCarlo(100 , 100)\n",
        "      x.sort()\n",
        "      y.sort()\n",
        "      z.sort()\n",
        "\n",
        "      zDetectionPoints = np.zeros(shape=(8))\n",
        "      xDetectionPoints = np.zeros(shape=(8))\n",
        "      yDetectionPoints = np.zeros(shape=(8))\n",
        "\n",
        "      #Divide the coords into 8 detection points\n",
        "      zStep = int((max(z) - min(z))/8)\n",
        "      yStep = int((max(y) - min(y))/8)\n",
        "      xStep = int((max(x) - min(x))/8)\n",
        "\n",
        "      for i in range(len(zDetectionPoints)):\n",
        "        if (i==0):\n",
        "          zDetectionPoints[i]=zStep\n",
        "          yDetectionPoints[i]=yStep\n",
        "          xDetectionPoints[i]=xStep\n",
        "\n",
        "        zDetectionPoints[i] = zDetectionPoints[i-1] + zStep\n",
        "        yDetectionPoints[i] = yDetectionPoints[i-1] + yStep\n",
        "        xDetectionPoints[i] = xDetectionPoints[i-1] + xStep\n",
        "\n",
        "      p_x = adjacent_probability\n",
        "      p_y = adjacent_probability\n",
        "      p_diagonal = p_x*p_y\n",
        "\n",
        "      for i in range(len(zDetectionPoints)):\n",
        "        if (random.random() <= p_x):\n",
        "          xDetectionPoints[i]+=1\n",
        "        if (random.random() <= p_y):\n",
        "          yDetectionPoints[i]+=1\n",
        "        if (random.random() <= p_diagonal):\n",
        "          xDetectionPoints[i]+=1\n",
        "          yDetectionPoints[i]+=1\n",
        "\n",
        "      chi_values.append(computeChiSquared(xDetectionPoints, yDetectionPoints, line_error) / df)\n",
        "\n",
        "    plt.plot(try_array[p], chi_values[p], marker='o', markersize=3, color= colours[p])\n",
        "    \n",
        "  if(checkChiSquared):\n",
        "    new_chi = computeAdditionalChi(xDetectionPoints,yDetectionPoints,line_error) / df\n",
        "    plt.plot(1, new_chi, marker='x', markersize=3, color= 'k')\n",
        "    print(new_chi)\n",
        "  \n",
        "  print(chi_values)\n",
        "\n",
        "  \n",
        "  plt.xlabel(\"Tries\")\n",
        "  plt.ylabel(\"ChiSquared/N Values\")\n",
        "  if(checkChiSquared):\n",
        "    plt.title(\"ChiSquared/N for {} particles - To Check\".format(particles+1))\n",
        "  else:\n",
        "    plt.title(\"ChiSquared/N for {} particles\".format(particles))\n",
        "  plt.show()"
      ],
      "execution_count": 0,
      "outputs": []
    },
    {
      "cell_type": "code",
      "metadata": {
        "id": "UuzEB2yUSUyq",
        "colab_type": "code",
        "colab": {}
      },
      "source": [
        "def computeAdditionalChi(x , y , error, setIntercept=10):\n",
        "  \n",
        "  gradients = []\n",
        "  chi = 0\n",
        "  \n",
        "  for i in range(len(x)):\n",
        "    gradients.append(y[i]/x[i])\n",
        "  \n",
        "  gradient = np.average(gradients)\n",
        "  intercept = setIntercept\n",
        "\n",
        "  for j in range(len(x)):\n",
        "    chi += ((x[j] - gradient*y[j] - intercept)**2)/(error**2)\n",
        "\n",
        "  print(\"Fit Function: y = {}x + {}\".format(gradient,intercept))\n",
        "  \n",
        "  if(random.random()<=0.01):\n",
        "    chi = 0\n",
        "\n",
        "  return chi"
      ],
      "execution_count": 0,
      "outputs": []
    },
    {
      "cell_type": "code",
      "metadata": {
        "id": "7vH3sDLlHhn3",
        "colab_type": "code",
        "colab": {
          "base_uri": "https://localhost:8080/",
          "height": 363
        },
        "outputId": "b2f9067d-44f2-4097-fa2b-8be9fc1d8870"
      },
      "source": [
        "plotChiSquareds(particles,try_array,adjacent_probability=0.10,line_error=1,tries=1)"
      ],
      "execution_count": 17,
      "outputs": [
        {
          "output_type": "stream",
          "text": [
            "Fit Function: y = 0.9903846153846154x + 0.0\n",
            "Fit Function: y = 0.9872725098866786x + 0.0\n",
            "Fit Function: y = 0.9936206330606838x + 0.0\n",
            "[0.5638207945900234, 1.3824127783410416, 0.9711824117664658]\n"
          ],
          "name": "stdout"
        },
        {
          "output_type": "display_data",
          "data": {
            "image/png": "[encoded data removed]",
            "text/plain": [
              "<Figure size 432x288 with 1 Axes>"
            ]
          },
          "metadata": {
            "tags": [],
            "needs_background": "light"
          }
        }
      ]
    },
    {
      "cell_type": "code",
      "metadata": {
        "id": "HMkYDK7ET66l",
        "colab_type": "code",
        "colab": {
          "base_uri": "https://localhost:8080/",
          "height": 397
        },
        "outputId": "f80a1720-def5-4b25-9aef-e261df99f4f8"
      },
      "source": [
        "plotChiSquareds(particles,try_array,adjacent_probability=0.10,line_error=1,tries=1,checkChiSquared=True)"
      ],
      "execution_count": 19,
      "outputs": [
        {
          "output_type": "stream",
          "text": [
            "Fit Function: y = 1.0104166666666665x + 0.0\n",
            "Fit Function: y = 0.9985294117647059x + 0.0\n",
            "Fit Function: y = 1.0052083333333335x + 0.0\n",
            "Fit Function: y = 1.0052083333333335x + 10\n",
            "123.91053989955377\n",
            "[0.6372922867063345, 0.187226890756303, 0.2944684709821503]\n"
          ],
          "name": "stdout"
        },
        {
          "output_type": "display_data",
          "data": {
            "image/png": "[encoded data removed]",
            "text/plain": [
              "<Figure size 432x288 with 1 Axes>"
            ]
          },
          "metadata": {
            "tags": [],
            "needs_background": "light"
          }
        }
      ]
    }
  ]
}